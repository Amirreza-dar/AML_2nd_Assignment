{
  "cells": [
    {
      "cell_type": "markdown",
      "id": "0189e0a4",
      "metadata": {
        "id": "0189e0a4"
      },
      "source": [
        "# Task 1\n",
        "### 1.1 Preprocessing data\n",
        "in this section we are importing data and joining the tables accoirding to thier primary key.\n"
      ]
    },
    {
      "cell_type": "code",
      "source": [
        "from google.colab import drive\n",
        "drive.mount(\"/content/gdrive\")"
      ],
      "metadata": {
        "colab": {
          "base_uri": "https://localhost:8080/"
        },
        "id": "phCG2NrsVlmD",
        "outputId": "dc65f646-3b71-4d3e-c255-6778709718b0"
      },
      "id": "phCG2NrsVlmD",
      "execution_count": 70,
      "outputs": [
        {
          "output_type": "stream",
          "name": "stdout",
          "text": [
            "Drive already mounted at /content/gdrive; to attempt to forcibly remount, call drive.mount(\"/content/gdrive\", force_remount=True).\n"
          ]
        }
      ]
    },
    {
      "cell_type": "code",
      "execution_count": 1,
      "id": "54ae8b9e",
      "metadata": {
        "id": "54ae8b9e"
      },
      "outputs": [],
      "source": [
        "import pandas as pd\n",
        "import numpy as np\n",
        "from sklearn.model_selection import train_test_split\n",
        "from sklearn.ensemble import RandomForestClassifier\n",
        "from sklearn.metrics import classification_report\n",
        "from sklearn.impute import SimpleImputer\n",
        "import sklearn.preprocessing as preprocessing\n",
        "from sklearn.decomposition import PCA\n",
        "import matplotlib.pyplot as plt\n",
        "from sklearn.discriminant_analysis import LinearDiscriminantAnalysis\n",
        "from imblearn.over_sampling import SMOTE\n"
      ]
    },
    {
      "cell_type": "code",
      "source": [
        "path = '/content/gdrive/MyDrive/AML/'\n",
        "iden_path = path + 'data_identity.csv'\n",
        "tran_path = path + 'data_transaction.csv'\n",
        "identity  = pd.read_csv(iden_path)\n",
        "transaction = pd.read_csv(tran_path)"
      ],
      "metadata": {
        "id": "KIf0s1yMZ8_u"
      },
      "id": "KIf0s1yMZ8_u",
      "execution_count": 2,
      "outputs": []
    },
    {
      "cell_type": "code",
      "execution_count": 3,
      "id": "83e2d5d2",
      "metadata": {
        "colab": {
          "base_uri": "https://localhost:8080/"
        },
        "id": "83e2d5d2",
        "outputId": "8bca2d9a-84fc-4c1f-8563-91669d49fc85"
      },
      "outputs": [
        {
          "output_type": "execute_result",
          "data": {
            "text/plain": [
              "(144233, 434)"
            ]
          },
          "metadata": {},
          "execution_count": 3
        }
      ],
      "source": [
        "joined_table = pd.merge(identity,transaction, on = 'TransactionID')\n",
        "joined_table.shape"
      ]
    },
    {
      "cell_type": "code",
      "execution_count": 4,
      "id": "5d34c801",
      "metadata": {
        "id": "5d34c801"
      },
      "outputs": [],
      "source": [
        "transaction = None\n",
        "identity = None"
      ]
    },
    {
      "cell_type": "markdown",
      "id": "7211bdda",
      "metadata": {
        "id": "7211bdda"
      },
      "source": [
        "Next we remove non-numeric features since."
      ]
    },
    {
      "cell_type": "code",
      "execution_count": 5,
      "id": "1a08af16",
      "metadata": {
        "colab": {
          "base_uri": "https://localhost:8080/"
        },
        "id": "1a08af16",
        "outputId": "a87bd68e-ef6b-496a-86c4-d76a0fa0616b"
      },
      "outputs": [
        {
          "output_type": "execute_result",
          "data": {
            "text/plain": [
              "(144233, 403)"
            ]
          },
          "metadata": {},
          "execution_count": 5
        }
      ],
      "source": [
        "joined_table = joined_table.drop([col for col in joined_table if joined_table[col].dtype  == 'object'], axis = 1)\n",
        "joined_table.shape"
      ]
    },
    {
      "cell_type": "code",
      "source": [
        "y = joined_table.isFraud"
      ],
      "metadata": {
        "id": "opFSN2yYhdXG"
      },
      "id": "opFSN2yYhdXG",
      "execution_count": 6,
      "outputs": []
    },
    {
      "cell_type": "markdown",
      "id": "0e5f4032",
      "metadata": {
        "id": "0e5f4032"
      },
      "source": [
        "Change every column data type to 'float64'"
      ]
    },
    {
      "cell_type": "code",
      "execution_count": 7,
      "id": "8c3bebeb",
      "metadata": {
        "id": "8c3bebeb"
      },
      "outputs": [],
      "source": [
        "joined_table = joined_table.astype('float64')\n"
      ]
    },
    {
      "cell_type": "markdown",
      "id": "33d88f6b",
      "metadata": {
        "id": "33d88f6b"
      },
      "source": [
        "Checking for empty columns so we can remove them: "
      ]
    },
    {
      "cell_type": "code",
      "execution_count": 8,
      "id": "8fc27f63",
      "metadata": {
        "colab": {
          "base_uri": "https://localhost:8080/"
        },
        "id": "8fc27f63",
        "outputId": "aa171d7a-6572-4817-a26c-3c1f3e61c933"
      },
      "outputs": [
        {
          "output_type": "stream",
          "name": "stdout",
          "text": [
            "dist1 1\n",
            "D11 2\n",
            "V1 3\n",
            "V2 4\n",
            "V3 5\n",
            "V4 6\n",
            "V5 7\n",
            "V6 8\n",
            "V7 9\n",
            "V8 10\n",
            "V9 11\n",
            "V10 12\n",
            "V11 13\n"
          ]
        },
        {
          "output_type": "execute_result",
          "data": {
            "text/plain": [
              "(144233, 390)"
            ]
          },
          "metadata": {},
          "execution_count": 8
        }
      ],
      "source": [
        "k = 1\n",
        "empty_columns = []\n",
        "for elem in joined_table.columns:\n",
        "    if joined_table[elem].isnull().values.all():\n",
        "        print(elem, k)\n",
        "        empty_columns.append(elem)\n",
        "        k += 1\n",
        "\n",
        "joined_table = joined_table.drop(empty_columns, axis = 1)\n",
        "joined_table.shape"
      ]
    },
    {
      "cell_type": "code",
      "execution_count": 9,
      "id": "10089d7f",
      "metadata": {
        "colab": {
          "base_uri": "https://localhost:8080/"
        },
        "id": "10089d7f",
        "outputId": "c8ec6aaf-b978-4ef8-9936-c317e20fd20e"
      },
      "outputs": [
        {
          "output_type": "execute_result",
          "data": {
            "text/plain": [
              "False"
            ]
          },
          "metadata": {},
          "execution_count": 9
        }
      ],
      "source": [
        "any(joined_table.TransactionDT.isna())"
      ]
    },
    {
      "cell_type": "code",
      "execution_count": 10,
      "id": "c8b57a79",
      "metadata": {
        "id": "c8b57a79"
      },
      "outputs": [],
      "source": [
        "X = joined_table.fillna(0.0)\n",
        "X = X.reset_index().drop(['index'] , axis = 1)"
      ]
    },
    {
      "cell_type": "markdown",
      "id": "460830ca",
      "metadata": {
        "id": "460830ca"
      },
      "source": [
        "Calculating indicator matrix:"
      ]
    },
    {
      "cell_type": "code",
      "execution_count": 11,
      "id": "0ac16542",
      "metadata": {
        "colab": {
          "base_uri": "https://localhost:8080/"
        },
        "id": "0ac16542",
        "outputId": "f46bc45a-2579-4e95-f79d-6c34b2472fc7"
      },
      "outputs": [
        {
          "output_type": "execute_result",
          "data": {
            "text/plain": [
              "(144233, 390)"
            ]
          },
          "metadata": {},
          "execution_count": 11
        }
      ],
      "source": [
        "indicator = []\n",
        "for ind in range(joined_table.shape[0]):\n",
        "    indicator.append([int(not elem) for elem in joined_table.iloc[ind].isna()])\n",
        "indicator = np.array(indicator)\n",
        "indicator.shape"
      ]
    },
    {
      "cell_type": "code",
      "execution_count": 12,
      "id": "c193393f",
      "metadata": {
        "colab": {
          "base_uri": "https://localhost:8080/",
          "height": 424
        },
        "id": "c193393f",
        "outputId": "225ab821-a056-41de-e0dc-d82667704578"
      },
      "outputs": [
        {
          "output_type": "execute_result",
          "data": {
            "text/plain": [
              "        TransactionID  id_01  id_02  id_03  id_04  id_05  id_06  id_07  id_08  \\\n",
              "0                 1.0    1.0    1.0    0.0    0.0    0.0    0.0    0.0    0.0   \n",
              "1                 1.0    1.0    1.0    0.0    0.0    1.0    1.0    0.0    0.0   \n",
              "2                 1.0    1.0    1.0    1.0    1.0    1.0    1.0    0.0    0.0   \n",
              "3                 1.0    1.0    1.0    0.0    0.0    1.0    1.0    0.0    0.0   \n",
              "4                 1.0    1.0    1.0    1.0    1.0    1.0    1.0    0.0    0.0   \n",
              "...               ...    ...    ...    ...    ...    ...    ...    ...    ...   \n",
              "144228            1.0    1.0    1.0    1.0    1.0    1.0    1.0    0.0    0.0   \n",
              "144229            1.0    1.0    1.0    0.0    0.0    1.0    1.0    0.0    0.0   \n",
              "144230            1.0    1.0    1.0    0.0    0.0    1.0    1.0    0.0    0.0   \n",
              "144231            1.0    1.0    1.0    1.0    1.0    1.0    1.0    0.0    0.0   \n",
              "144232            1.0    1.0    1.0    0.0    0.0    1.0    1.0    0.0    0.0   \n",
              "\n",
              "        id_09  ...  V330  V331  V332  V333  V334  V335  V336  V337  V338  V339  \n",
              "0         0.0  ...   1.0   1.0   1.0   1.0   1.0   1.0   1.0   1.0   1.0   1.0  \n",
              "1         0.0  ...   1.0   1.0   1.0   1.0   1.0   1.0   1.0   1.0   1.0   1.0  \n",
              "2         1.0  ...   0.0   0.0   0.0   0.0   0.0   0.0   0.0   0.0   0.0   0.0  \n",
              "3         0.0  ...   0.0   0.0   0.0   0.0   0.0   0.0   0.0   0.0   0.0   0.0  \n",
              "4         1.0  ...   1.0   1.0   1.0   1.0   1.0   1.0   1.0   1.0   1.0   1.0  \n",
              "...       ...  ...   ...   ...   ...   ...   ...   ...   ...   ...   ...   ...  \n",
              "144228    1.0  ...   0.0   0.0   0.0   0.0   0.0   0.0   0.0   0.0   0.0   0.0  \n",
              "144229    0.0  ...   1.0   1.0   1.0   1.0   1.0   1.0   1.0   1.0   1.0   1.0  \n",
              "144230    0.0  ...   0.0   0.0   0.0   0.0   0.0   0.0   0.0   0.0   0.0   0.0  \n",
              "144231    1.0  ...   1.0   1.0   1.0   1.0   1.0   1.0   1.0   1.0   1.0   1.0  \n",
              "144232    0.0  ...   0.0   0.0   0.0   0.0   0.0   0.0   0.0   0.0   0.0   0.0  \n",
              "\n",
              "[144233 rows x 390 columns]"
            ],
            "text/html": [
              "\n",
              "  <div id=\"df-985836dc-40b4-4761-8772-c19d6b4dea00\">\n",
              "    <div class=\"colab-df-container\">\n",
              "      <div>\n",
              "<style scoped>\n",
              "    .dataframe tbody tr th:only-of-type {\n",
              "        vertical-align: middle;\n",
              "    }\n",
              "\n",
              "    .dataframe tbody tr th {\n",
              "        vertical-align: top;\n",
              "    }\n",
              "\n",
              "    .dataframe thead th {\n",
              "        text-align: right;\n",
              "    }\n",
              "</style>\n",
              "<table border=\"1\" class=\"dataframe\">\n",
              "  <thead>\n",
              "    <tr style=\"text-align: right;\">\n",
              "      <th></th>\n",
              "      <th>TransactionID</th>\n",
              "      <th>id_01</th>\n",
              "      <th>id_02</th>\n",
              "      <th>id_03</th>\n",
              "      <th>id_04</th>\n",
              "      <th>id_05</th>\n",
              "      <th>id_06</th>\n",
              "      <th>id_07</th>\n",
              "      <th>id_08</th>\n",
              "      <th>id_09</th>\n",
              "      <th>...</th>\n",
              "      <th>V330</th>\n",
              "      <th>V331</th>\n",
              "      <th>V332</th>\n",
              "      <th>V333</th>\n",
              "      <th>V334</th>\n",
              "      <th>V335</th>\n",
              "      <th>V336</th>\n",
              "      <th>V337</th>\n",
              "      <th>V338</th>\n",
              "      <th>V339</th>\n",
              "    </tr>\n",
              "  </thead>\n",
              "  <tbody>\n",
              "    <tr>\n",
              "      <th>0</th>\n",
              "      <td>1.0</td>\n",
              "      <td>1.0</td>\n",
              "      <td>1.0</td>\n",
              "      <td>0.0</td>\n",
              "      <td>0.0</td>\n",
              "      <td>0.0</td>\n",
              "      <td>0.0</td>\n",
              "      <td>0.0</td>\n",
              "      <td>0.0</td>\n",
              "      <td>0.0</td>\n",
              "      <td>...</td>\n",
              "      <td>1.0</td>\n",
              "      <td>1.0</td>\n",
              "      <td>1.0</td>\n",
              "      <td>1.0</td>\n",
              "      <td>1.0</td>\n",
              "      <td>1.0</td>\n",
              "      <td>1.0</td>\n",
              "      <td>1.0</td>\n",
              "      <td>1.0</td>\n",
              "      <td>1.0</td>\n",
              "    </tr>\n",
              "    <tr>\n",
              "      <th>1</th>\n",
              "      <td>1.0</td>\n",
              "      <td>1.0</td>\n",
              "      <td>1.0</td>\n",
              "      <td>0.0</td>\n",
              "      <td>0.0</td>\n",
              "      <td>1.0</td>\n",
              "      <td>1.0</td>\n",
              "      <td>0.0</td>\n",
              "      <td>0.0</td>\n",
              "      <td>0.0</td>\n",
              "      <td>...</td>\n",
              "      <td>1.0</td>\n",
              "      <td>1.0</td>\n",
              "      <td>1.0</td>\n",
              "      <td>1.0</td>\n",
              "      <td>1.0</td>\n",
              "      <td>1.0</td>\n",
              "      <td>1.0</td>\n",
              "      <td>1.0</td>\n",
              "      <td>1.0</td>\n",
              "      <td>1.0</td>\n",
              "    </tr>\n",
              "    <tr>\n",
              "      <th>2</th>\n",
              "      <td>1.0</td>\n",
              "      <td>1.0</td>\n",
              "      <td>1.0</td>\n",
              "      <td>1.0</td>\n",
              "      <td>1.0</td>\n",
              "      <td>1.0</td>\n",
              "      <td>1.0</td>\n",
              "      <td>0.0</td>\n",
              "      <td>0.0</td>\n",
              "      <td>1.0</td>\n",
              "      <td>...</td>\n",
              "      <td>0.0</td>\n",
              "      <td>0.0</td>\n",
              "      <td>0.0</td>\n",
              "      <td>0.0</td>\n",
              "      <td>0.0</td>\n",
              "      <td>0.0</td>\n",
              "      <td>0.0</td>\n",
              "      <td>0.0</td>\n",
              "      <td>0.0</td>\n",
              "      <td>0.0</td>\n",
              "    </tr>\n",
              "    <tr>\n",
              "      <th>3</th>\n",
              "      <td>1.0</td>\n",
              "      <td>1.0</td>\n",
              "      <td>1.0</td>\n",
              "      <td>0.0</td>\n",
              "      <td>0.0</td>\n",
              "      <td>1.0</td>\n",
              "      <td>1.0</td>\n",
              "      <td>0.0</td>\n",
              "      <td>0.0</td>\n",
              "      <td>0.0</td>\n",
              "      <td>...</td>\n",
              "      <td>0.0</td>\n",
              "      <td>0.0</td>\n",
              "      <td>0.0</td>\n",
              "      <td>0.0</td>\n",
              "      <td>0.0</td>\n",
              "      <td>0.0</td>\n",
              "      <td>0.0</td>\n",
              "      <td>0.0</td>\n",
              "      <td>0.0</td>\n",
              "      <td>0.0</td>\n",
              "    </tr>\n",
              "    <tr>\n",
              "      <th>4</th>\n",
              "      <td>1.0</td>\n",
              "      <td>1.0</td>\n",
              "      <td>1.0</td>\n",
              "      <td>1.0</td>\n",
              "      <td>1.0</td>\n",
              "      <td>1.0</td>\n",
              "      <td>1.0</td>\n",
              "      <td>0.0</td>\n",
              "      <td>0.0</td>\n",
              "      <td>1.0</td>\n",
              "      <td>...</td>\n",
              "      <td>1.0</td>\n",
              "      <td>1.0</td>\n",
              "      <td>1.0</td>\n",
              "      <td>1.0</td>\n",
              "      <td>1.0</td>\n",
              "      <td>1.0</td>\n",
              "      <td>1.0</td>\n",
              "      <td>1.0</td>\n",
              "      <td>1.0</td>\n",
              "      <td>1.0</td>\n",
              "    </tr>\n",
              "    <tr>\n",
              "      <th>...</th>\n",
              "      <td>...</td>\n",
              "      <td>...</td>\n",
              "      <td>...</td>\n",
              "      <td>...</td>\n",
              "      <td>...</td>\n",
              "      <td>...</td>\n",
              "      <td>...</td>\n",
              "      <td>...</td>\n",
              "      <td>...</td>\n",
              "      <td>...</td>\n",
              "      <td>...</td>\n",
              "      <td>...</td>\n",
              "      <td>...</td>\n",
              "      <td>...</td>\n",
              "      <td>...</td>\n",
              "      <td>...</td>\n",
              "      <td>...</td>\n",
              "      <td>...</td>\n",
              "      <td>...</td>\n",
              "      <td>...</td>\n",
              "      <td>...</td>\n",
              "    </tr>\n",
              "    <tr>\n",
              "      <th>144228</th>\n",
              "      <td>1.0</td>\n",
              "      <td>1.0</td>\n",
              "      <td>1.0</td>\n",
              "      <td>1.0</td>\n",
              "      <td>1.0</td>\n",
              "      <td>1.0</td>\n",
              "      <td>1.0</td>\n",
              "      <td>0.0</td>\n",
              "      <td>0.0</td>\n",
              "      <td>1.0</td>\n",
              "      <td>...</td>\n",
              "      <td>0.0</td>\n",
              "      <td>0.0</td>\n",
              "      <td>0.0</td>\n",
              "      <td>0.0</td>\n",
              "      <td>0.0</td>\n",
              "      <td>0.0</td>\n",
              "      <td>0.0</td>\n",
              "      <td>0.0</td>\n",
              "      <td>0.0</td>\n",
              "      <td>0.0</td>\n",
              "    </tr>\n",
              "    <tr>\n",
              "      <th>144229</th>\n",
              "      <td>1.0</td>\n",
              "      <td>1.0</td>\n",
              "      <td>1.0</td>\n",
              "      <td>0.0</td>\n",
              "      <td>0.0</td>\n",
              "      <td>1.0</td>\n",
              "      <td>1.0</td>\n",
              "      <td>0.0</td>\n",
              "      <td>0.0</td>\n",
              "      <td>0.0</td>\n",
              "      <td>...</td>\n",
              "      <td>1.0</td>\n",
              "      <td>1.0</td>\n",
              "      <td>1.0</td>\n",
              "      <td>1.0</td>\n",
              "      <td>1.0</td>\n",
              "      <td>1.0</td>\n",
              "      <td>1.0</td>\n",
              "      <td>1.0</td>\n",
              "      <td>1.0</td>\n",
              "      <td>1.0</td>\n",
              "    </tr>\n",
              "    <tr>\n",
              "      <th>144230</th>\n",
              "      <td>1.0</td>\n",
              "      <td>1.0</td>\n",
              "      <td>1.0</td>\n",
              "      <td>0.0</td>\n",
              "      <td>0.0</td>\n",
              "      <td>1.0</td>\n",
              "      <td>1.0</td>\n",
              "      <td>0.0</td>\n",
              "      <td>0.0</td>\n",
              "      <td>0.0</td>\n",
              "      <td>...</td>\n",
              "      <td>0.0</td>\n",
              "      <td>0.0</td>\n",
              "      <td>0.0</td>\n",
              "      <td>0.0</td>\n",
              "      <td>0.0</td>\n",
              "      <td>0.0</td>\n",
              "      <td>0.0</td>\n",
              "      <td>0.0</td>\n",
              "      <td>0.0</td>\n",
              "      <td>0.0</td>\n",
              "    </tr>\n",
              "    <tr>\n",
              "      <th>144231</th>\n",
              "      <td>1.0</td>\n",
              "      <td>1.0</td>\n",
              "      <td>1.0</td>\n",
              "      <td>1.0</td>\n",
              "      <td>1.0</td>\n",
              "      <td>1.0</td>\n",
              "      <td>1.0</td>\n",
              "      <td>0.0</td>\n",
              "      <td>0.0</td>\n",
              "      <td>1.0</td>\n",
              "      <td>...</td>\n",
              "      <td>1.0</td>\n",
              "      <td>1.0</td>\n",
              "      <td>1.0</td>\n",
              "      <td>1.0</td>\n",
              "      <td>1.0</td>\n",
              "      <td>1.0</td>\n",
              "      <td>1.0</td>\n",
              "      <td>1.0</td>\n",
              "      <td>1.0</td>\n",
              "      <td>1.0</td>\n",
              "    </tr>\n",
              "    <tr>\n",
              "      <th>144232</th>\n",
              "      <td>1.0</td>\n",
              "      <td>1.0</td>\n",
              "      <td>1.0</td>\n",
              "      <td>0.0</td>\n",
              "      <td>0.0</td>\n",
              "      <td>1.0</td>\n",
              "      <td>1.0</td>\n",
              "      <td>0.0</td>\n",
              "      <td>0.0</td>\n",
              "      <td>0.0</td>\n",
              "      <td>...</td>\n",
              "      <td>0.0</td>\n",
              "      <td>0.0</td>\n",
              "      <td>0.0</td>\n",
              "      <td>0.0</td>\n",
              "      <td>0.0</td>\n",
              "      <td>0.0</td>\n",
              "      <td>0.0</td>\n",
              "      <td>0.0</td>\n",
              "      <td>0.0</td>\n",
              "      <td>0.0</td>\n",
              "    </tr>\n",
              "  </tbody>\n",
              "</table>\n",
              "<p>144233 rows × 390 columns</p>\n",
              "</div>\n",
              "      <button class=\"colab-df-convert\" onclick=\"convertToInteractive('df-985836dc-40b4-4761-8772-c19d6b4dea00')\"\n",
              "              title=\"Convert this dataframe to an interactive table.\"\n",
              "              style=\"display:none;\">\n",
              "        \n",
              "  <svg xmlns=\"http://www.w3.org/2000/svg\" height=\"24px\"viewBox=\"0 0 24 24\"\n",
              "       width=\"24px\">\n",
              "    <path d=\"M0 0h24v24H0V0z\" fill=\"none\"/>\n",
              "    <path d=\"M18.56 5.44l.94 2.06.94-2.06 2.06-.94-2.06-.94-.94-2.06-.94 2.06-2.06.94zm-11 1L8.5 8.5l.94-2.06 2.06-.94-2.06-.94L8.5 2.5l-.94 2.06-2.06.94zm10 10l.94 2.06.94-2.06 2.06-.94-2.06-.94-.94-2.06-.94 2.06-2.06.94z\"/><path d=\"M17.41 7.96l-1.37-1.37c-.4-.4-.92-.59-1.43-.59-.52 0-1.04.2-1.43.59L10.3 9.45l-7.72 7.72c-.78.78-.78 2.05 0 2.83L4 21.41c.39.39.9.59 1.41.59.51 0 1.02-.2 1.41-.59l7.78-7.78 2.81-2.81c.8-.78.8-2.07 0-2.86zM5.41 20L4 18.59l7.72-7.72 1.47 1.35L5.41 20z\"/>\n",
              "  </svg>\n",
              "      </button>\n",
              "      \n",
              "  <style>\n",
              "    .colab-df-container {\n",
              "      display:flex;\n",
              "      flex-wrap:wrap;\n",
              "      gap: 12px;\n",
              "    }\n",
              "\n",
              "    .colab-df-convert {\n",
              "      background-color: #E8F0FE;\n",
              "      border: none;\n",
              "      border-radius: 50%;\n",
              "      cursor: pointer;\n",
              "      display: none;\n",
              "      fill: #1967D2;\n",
              "      height: 32px;\n",
              "      padding: 0 0 0 0;\n",
              "      width: 32px;\n",
              "    }\n",
              "\n",
              "    .colab-df-convert:hover {\n",
              "      background-color: #E2EBFA;\n",
              "      box-shadow: 0px 1px 2px rgba(60, 64, 67, 0.3), 0px 1px 3px 1px rgba(60, 64, 67, 0.15);\n",
              "      fill: #174EA6;\n",
              "    }\n",
              "\n",
              "    [theme=dark] .colab-df-convert {\n",
              "      background-color: #3B4455;\n",
              "      fill: #D2E3FC;\n",
              "    }\n",
              "\n",
              "    [theme=dark] .colab-df-convert:hover {\n",
              "      background-color: #434B5C;\n",
              "      box-shadow: 0px 1px 3px 1px rgba(0, 0, 0, 0.15);\n",
              "      filter: drop-shadow(0px 1px 2px rgba(0, 0, 0, 0.3));\n",
              "      fill: #FFFFFF;\n",
              "    }\n",
              "  </style>\n",
              "\n",
              "      <script>\n",
              "        const buttonEl =\n",
              "          document.querySelector('#df-985836dc-40b4-4761-8772-c19d6b4dea00 button.colab-df-convert');\n",
              "        buttonEl.style.display =\n",
              "          google.colab.kernel.accessAllowed ? 'block' : 'none';\n",
              "\n",
              "        async function convertToInteractive(key) {\n",
              "          const element = document.querySelector('#df-985836dc-40b4-4761-8772-c19d6b4dea00');\n",
              "          const dataTable =\n",
              "            await google.colab.kernel.invokeFunction('convertToInteractive',\n",
              "                                                     [key], {});\n",
              "          if (!dataTable) return;\n",
              "\n",
              "          const docLinkHtml = 'Like what you see? Visit the ' +\n",
              "            '<a target=\"_blank\" href=https://colab.research.google.com/notebooks/data_table.ipynb>data table notebook</a>'\n",
              "            + ' to learn more about interactive tables.';\n",
              "          element.innerHTML = '';\n",
              "          dataTable['output_type'] = 'display_data';\n",
              "          await google.colab.output.renderOutput(dataTable, element);\n",
              "          const docLink = document.createElement('div');\n",
              "          docLink.innerHTML = docLinkHtml;\n",
              "          element.appendChild(docLink);\n",
              "        }\n",
              "      </script>\n",
              "    </div>\n",
              "  </div>\n",
              "  "
            ]
          },
          "metadata": {},
          "execution_count": 12
        }
      ],
      "source": [
        "indicator = pd.DataFrame(indicator, columns = joined_table.columns, dtype = 'float64')\n",
        "indicator"
      ]
    },
    {
      "cell_type": "code",
      "execution_count": 13,
      "id": "8578cce3",
      "metadata": {
        "colab": {
          "base_uri": "https://localhost:8080/",
          "height": 236
        },
        "id": "8578cce3",
        "outputId": "d6304405-ae7f-416d-9ad8-c6fce43cc271"
      },
      "outputs": [
        {
          "output_type": "execute_result",
          "data": {
            "text/plain": [
              "   TransactionID  id_01     id_02  id_03  id_04  id_05  id_06  id_07  id_08  \\\n",
              "0      2987004.0    0.0   70787.0    NaN    NaN    NaN    NaN    NaN    NaN   \n",
              "1      2987008.0   -5.0   98945.0    NaN    NaN    0.0   -5.0    NaN    NaN   \n",
              "2      2987010.0   -5.0  191631.0    0.0    0.0    0.0    0.0    NaN    NaN   \n",
              "3      2987011.0   -5.0  221832.0    NaN    NaN    0.0   -6.0    NaN    NaN   \n",
              "4      2987016.0    0.0    7460.0    0.0    0.0    1.0    0.0    NaN    NaN   \n",
              "\n",
              "   id_09  ...  V330  V331  V332  V333  V334  V335  V336  V337  V338  V339  \n",
              "0    NaN  ...   0.0   0.0   0.0   0.0   0.0   0.0   0.0   0.0   0.0   0.0  \n",
              "1    NaN  ...   0.0   0.0   0.0   0.0   0.0   0.0   0.0   0.0   0.0   0.0  \n",
              "2    0.0  ...   NaN   NaN   NaN   NaN   NaN   NaN   NaN   NaN   NaN   NaN  \n",
              "3    NaN  ...   NaN   NaN   NaN   NaN   NaN   NaN   NaN   NaN   NaN   NaN  \n",
              "4    0.0  ...   0.0   0.0   0.0   0.0   0.0   0.0   0.0   0.0   0.0   0.0  \n",
              "\n",
              "[5 rows x 390 columns]"
            ],
            "text/html": [
              "\n",
              "  <div id=\"df-c74159a8-286f-4746-afdf-38e860d9e7b1\">\n",
              "    <div class=\"colab-df-container\">\n",
              "      <div>\n",
              "<style scoped>\n",
              "    .dataframe tbody tr th:only-of-type {\n",
              "        vertical-align: middle;\n",
              "    }\n",
              "\n",
              "    .dataframe tbody tr th {\n",
              "        vertical-align: top;\n",
              "    }\n",
              "\n",
              "    .dataframe thead th {\n",
              "        text-align: right;\n",
              "    }\n",
              "</style>\n",
              "<table border=\"1\" class=\"dataframe\">\n",
              "  <thead>\n",
              "    <tr style=\"text-align: right;\">\n",
              "      <th></th>\n",
              "      <th>TransactionID</th>\n",
              "      <th>id_01</th>\n",
              "      <th>id_02</th>\n",
              "      <th>id_03</th>\n",
              "      <th>id_04</th>\n",
              "      <th>id_05</th>\n",
              "      <th>id_06</th>\n",
              "      <th>id_07</th>\n",
              "      <th>id_08</th>\n",
              "      <th>id_09</th>\n",
              "      <th>...</th>\n",
              "      <th>V330</th>\n",
              "      <th>V331</th>\n",
              "      <th>V332</th>\n",
              "      <th>V333</th>\n",
              "      <th>V334</th>\n",
              "      <th>V335</th>\n",
              "      <th>V336</th>\n",
              "      <th>V337</th>\n",
              "      <th>V338</th>\n",
              "      <th>V339</th>\n",
              "    </tr>\n",
              "  </thead>\n",
              "  <tbody>\n",
              "    <tr>\n",
              "      <th>0</th>\n",
              "      <td>2987004.0</td>\n",
              "      <td>0.0</td>\n",
              "      <td>70787.0</td>\n",
              "      <td>NaN</td>\n",
              "      <td>NaN</td>\n",
              "      <td>NaN</td>\n",
              "      <td>NaN</td>\n",
              "      <td>NaN</td>\n",
              "      <td>NaN</td>\n",
              "      <td>NaN</td>\n",
              "      <td>...</td>\n",
              "      <td>0.0</td>\n",
              "      <td>0.0</td>\n",
              "      <td>0.0</td>\n",
              "      <td>0.0</td>\n",
              "      <td>0.0</td>\n",
              "      <td>0.0</td>\n",
              "      <td>0.0</td>\n",
              "      <td>0.0</td>\n",
              "      <td>0.0</td>\n",
              "      <td>0.0</td>\n",
              "    </tr>\n",
              "    <tr>\n",
              "      <th>1</th>\n",
              "      <td>2987008.0</td>\n",
              "      <td>-5.0</td>\n",
              "      <td>98945.0</td>\n",
              "      <td>NaN</td>\n",
              "      <td>NaN</td>\n",
              "      <td>0.0</td>\n",
              "      <td>-5.0</td>\n",
              "      <td>NaN</td>\n",
              "      <td>NaN</td>\n",
              "      <td>NaN</td>\n",
              "      <td>...</td>\n",
              "      <td>0.0</td>\n",
              "      <td>0.0</td>\n",
              "      <td>0.0</td>\n",
              "      <td>0.0</td>\n",
              "      <td>0.0</td>\n",
              "      <td>0.0</td>\n",
              "      <td>0.0</td>\n",
              "      <td>0.0</td>\n",
              "      <td>0.0</td>\n",
              "      <td>0.0</td>\n",
              "    </tr>\n",
              "    <tr>\n",
              "      <th>2</th>\n",
              "      <td>2987010.0</td>\n",
              "      <td>-5.0</td>\n",
              "      <td>191631.0</td>\n",
              "      <td>0.0</td>\n",
              "      <td>0.0</td>\n",
              "      <td>0.0</td>\n",
              "      <td>0.0</td>\n",
              "      <td>NaN</td>\n",
              "      <td>NaN</td>\n",
              "      <td>0.0</td>\n",
              "      <td>...</td>\n",
              "      <td>NaN</td>\n",
              "      <td>NaN</td>\n",
              "      <td>NaN</td>\n",
              "      <td>NaN</td>\n",
              "      <td>NaN</td>\n",
              "      <td>NaN</td>\n",
              "      <td>NaN</td>\n",
              "      <td>NaN</td>\n",
              "      <td>NaN</td>\n",
              "      <td>NaN</td>\n",
              "    </tr>\n",
              "    <tr>\n",
              "      <th>3</th>\n",
              "      <td>2987011.0</td>\n",
              "      <td>-5.0</td>\n",
              "      <td>221832.0</td>\n",
              "      <td>NaN</td>\n",
              "      <td>NaN</td>\n",
              "      <td>0.0</td>\n",
              "      <td>-6.0</td>\n",
              "      <td>NaN</td>\n",
              "      <td>NaN</td>\n",
              "      <td>NaN</td>\n",
              "      <td>...</td>\n",
              "      <td>NaN</td>\n",
              "      <td>NaN</td>\n",
              "      <td>NaN</td>\n",
              "      <td>NaN</td>\n",
              "      <td>NaN</td>\n",
              "      <td>NaN</td>\n",
              "      <td>NaN</td>\n",
              "      <td>NaN</td>\n",
              "      <td>NaN</td>\n",
              "      <td>NaN</td>\n",
              "    </tr>\n",
              "    <tr>\n",
              "      <th>4</th>\n",
              "      <td>2987016.0</td>\n",
              "      <td>0.0</td>\n",
              "      <td>7460.0</td>\n",
              "      <td>0.0</td>\n",
              "      <td>0.0</td>\n",
              "      <td>1.0</td>\n",
              "      <td>0.0</td>\n",
              "      <td>NaN</td>\n",
              "      <td>NaN</td>\n",
              "      <td>0.0</td>\n",
              "      <td>...</td>\n",
              "      <td>0.0</td>\n",
              "      <td>0.0</td>\n",
              "      <td>0.0</td>\n",
              "      <td>0.0</td>\n",
              "      <td>0.0</td>\n",
              "      <td>0.0</td>\n",
              "      <td>0.0</td>\n",
              "      <td>0.0</td>\n",
              "      <td>0.0</td>\n",
              "      <td>0.0</td>\n",
              "    </tr>\n",
              "  </tbody>\n",
              "</table>\n",
              "<p>5 rows × 390 columns</p>\n",
              "</div>\n",
              "      <button class=\"colab-df-convert\" onclick=\"convertToInteractive('df-c74159a8-286f-4746-afdf-38e860d9e7b1')\"\n",
              "              title=\"Convert this dataframe to an interactive table.\"\n",
              "              style=\"display:none;\">\n",
              "        \n",
              "  <svg xmlns=\"http://www.w3.org/2000/svg\" height=\"24px\"viewBox=\"0 0 24 24\"\n",
              "       width=\"24px\">\n",
              "    <path d=\"M0 0h24v24H0V0z\" fill=\"none\"/>\n",
              "    <path d=\"M18.56 5.44l.94 2.06.94-2.06 2.06-.94-2.06-.94-.94-2.06-.94 2.06-2.06.94zm-11 1L8.5 8.5l.94-2.06 2.06-.94-2.06-.94L8.5 2.5l-.94 2.06-2.06.94zm10 10l.94 2.06.94-2.06 2.06-.94-2.06-.94-.94-2.06-.94 2.06-2.06.94z\"/><path d=\"M17.41 7.96l-1.37-1.37c-.4-.4-.92-.59-1.43-.59-.52 0-1.04.2-1.43.59L10.3 9.45l-7.72 7.72c-.78.78-.78 2.05 0 2.83L4 21.41c.39.39.9.59 1.41.59.51 0 1.02-.2 1.41-.59l7.78-7.78 2.81-2.81c.8-.78.8-2.07 0-2.86zM5.41 20L4 18.59l7.72-7.72 1.47 1.35L5.41 20z\"/>\n",
              "  </svg>\n",
              "      </button>\n",
              "      \n",
              "  <style>\n",
              "    .colab-df-container {\n",
              "      display:flex;\n",
              "      flex-wrap:wrap;\n",
              "      gap: 12px;\n",
              "    }\n",
              "\n",
              "    .colab-df-convert {\n",
              "      background-color: #E8F0FE;\n",
              "      border: none;\n",
              "      border-radius: 50%;\n",
              "      cursor: pointer;\n",
              "      display: none;\n",
              "      fill: #1967D2;\n",
              "      height: 32px;\n",
              "      padding: 0 0 0 0;\n",
              "      width: 32px;\n",
              "    }\n",
              "\n",
              "    .colab-df-convert:hover {\n",
              "      background-color: #E2EBFA;\n",
              "      box-shadow: 0px 1px 2px rgba(60, 64, 67, 0.3), 0px 1px 3px 1px rgba(60, 64, 67, 0.15);\n",
              "      fill: #174EA6;\n",
              "    }\n",
              "\n",
              "    [theme=dark] .colab-df-convert {\n",
              "      background-color: #3B4455;\n",
              "      fill: #D2E3FC;\n",
              "    }\n",
              "\n",
              "    [theme=dark] .colab-df-convert:hover {\n",
              "      background-color: #434B5C;\n",
              "      box-shadow: 0px 1px 3px 1px rgba(0, 0, 0, 0.15);\n",
              "      filter: drop-shadow(0px 1px 2px rgba(0, 0, 0, 0.3));\n",
              "      fill: #FFFFFF;\n",
              "    }\n",
              "  </style>\n",
              "\n",
              "      <script>\n",
              "        const buttonEl =\n",
              "          document.querySelector('#df-c74159a8-286f-4746-afdf-38e860d9e7b1 button.colab-df-convert');\n",
              "        buttonEl.style.display =\n",
              "          google.colab.kernel.accessAllowed ? 'block' : 'none';\n",
              "\n",
              "        async function convertToInteractive(key) {\n",
              "          const element = document.querySelector('#df-c74159a8-286f-4746-afdf-38e860d9e7b1');\n",
              "          const dataTable =\n",
              "            await google.colab.kernel.invokeFunction('convertToInteractive',\n",
              "                                                     [key], {});\n",
              "          if (!dataTable) return;\n",
              "\n",
              "          const docLinkHtml = 'Like what you see? Visit the ' +\n",
              "            '<a target=\"_blank\" href=https://colab.research.google.com/notebooks/data_table.ipynb>data table notebook</a>'\n",
              "            + ' to learn more about interactive tables.';\n",
              "          element.innerHTML = '';\n",
              "          dataTable['output_type'] = 'display_data';\n",
              "          await google.colab.output.renderOutput(dataTable, element);\n",
              "          const docLink = document.createElement('div');\n",
              "          docLink.innerHTML = docLinkHtml;\n",
              "          element.appendChild(docLink);\n",
              "        }\n",
              "      </script>\n",
              "    </div>\n",
              "  </div>\n",
              "  "
            ]
          },
          "metadata": {},
          "execution_count": 13
        }
      ],
      "source": [
        "joined_table.head()"
      ]
    },
    {
      "cell_type": "code",
      "execution_count": 14,
      "id": "dbc698b1",
      "metadata": {
        "colab": {
          "base_uri": "https://localhost:8080/",
          "height": 488
        },
        "id": "dbc698b1",
        "outputId": "12058cd8-3e14-45df-f47f-1e6b728d0e4e"
      },
      "outputs": [
        {
          "output_type": "execute_result",
          "data": {
            "text/plain": [
              "        TransactionID  id_01     id_02     id_03     id_04      id_05  \\\n",
              "0           2987004.0    0.0   70787.0  0.060189 -0.058938   1.615585   \n",
              "1           2987008.0   -5.0   98945.0  0.060189 -0.058938   0.000000   \n",
              "2           2987010.0   -5.0  191631.0  0.000000  0.000000   0.000000   \n",
              "3           2987011.0   -5.0  221832.0  0.060189 -0.058938   0.000000   \n",
              "4           2987016.0    0.0    7460.0  0.000000  0.000000   1.000000   \n",
              "...               ...    ...       ...       ...       ...        ...   \n",
              "144228      3577521.0  -15.0  145955.0  0.000000  0.000000   0.000000   \n",
              "144229      3577526.0   -5.0  172059.0  0.060189 -0.058938   1.000000   \n",
              "144230      3577529.0  -20.0  632381.0  0.060189 -0.058938  -1.000000   \n",
              "144231      3577531.0   -5.0   55528.0  0.000000  0.000000   0.000000   \n",
              "144232      3577534.0  -45.0  339406.0  0.060189 -0.058938 -10.000000   \n",
              "\n",
              "            id_06      id_07      id_08     id_09  ...      V330        V331  \\\n",
              "0        -6.69871  13.285354 -38.600388  0.091023  ...  0.000000    0.000000   \n",
              "1        -5.00000  13.285354 -38.600388  0.091023  ...  0.000000    0.000000   \n",
              "2         0.00000  13.285354 -38.600388  0.000000  ...  0.777733  723.339755   \n",
              "3        -6.00000  13.285354 -38.600388  0.091023  ...  0.777733  723.339755   \n",
              "4         0.00000  13.285354 -38.600388  0.000000  ...  0.000000    0.000000   \n",
              "...           ...        ...        ...       ...  ...       ...         ...   \n",
              "144228    0.00000  13.285354 -38.600388  0.000000  ...  0.777733  723.339755   \n",
              "144229   -5.00000  13.285354 -38.600388  0.091023  ...  0.000000    0.000000   \n",
              "144230  -36.00000  13.285354 -38.600388  0.091023  ...  0.777733  723.339755   \n",
              "144231   -7.00000  13.285354 -38.600388  0.000000  ...  0.000000    0.000000   \n",
              "144232 -100.00000  13.285354 -38.600388  0.091023  ...  0.777733  723.339755   \n",
              "\n",
              "               V332         V333      V334       V335       V336       V337  \\\n",
              "0          0.000000     0.000000  0.000000   0.000000   0.000000   0.000000   \n",
              "1          0.000000     0.000000  0.000000   0.000000   0.000000   0.000000   \n",
              "2       1379.108414  1017.190218  9.837929  59.213495  28.592672  55.461163   \n",
              "3       1379.108414  1017.190218  9.837929  59.213495  28.592672  55.461163   \n",
              "4          0.000000     0.000000  0.000000   0.000000   0.000000   0.000000   \n",
              "...             ...          ...       ...        ...        ...        ...   \n",
              "144228  1379.108414  1017.190218  9.837929  59.213495  28.592672  55.461163   \n",
              "144229     0.000000     0.000000  0.000000   0.000000   0.000000   0.000000   \n",
              "144230  1379.108414  1017.190218  9.837929  59.213495  28.592672  55.461163   \n",
              "144231     0.000000     0.000000  0.000000   0.000000   0.000000   0.000000   \n",
              "144232  1379.108414  1017.190218  9.837929  59.213495  28.592672  55.461163   \n",
              "\n",
              "              V338        V339  \n",
              "0         0.000000    0.000000  \n",
              "1         0.000000    0.000000  \n",
              "2       151.546395  100.950114  \n",
              "3       151.546395  100.950114  \n",
              "4         0.000000    0.000000  \n",
              "...            ...         ...  \n",
              "144228  151.546395  100.950114  \n",
              "144229    0.000000    0.000000  \n",
              "144230  151.546395  100.950114  \n",
              "144231    0.000000    0.000000  \n",
              "144232  151.546395  100.950114  \n",
              "\n",
              "[144233 rows x 390 columns]"
            ],
            "text/html": [
              "\n",
              "  <div id=\"df-0c3dad0e-d132-4b09-80dd-d5dad14c2cb8\">\n",
              "    <div class=\"colab-df-container\">\n",
              "      <div>\n",
              "<style scoped>\n",
              "    .dataframe tbody tr th:only-of-type {\n",
              "        vertical-align: middle;\n",
              "    }\n",
              "\n",
              "    .dataframe tbody tr th {\n",
              "        vertical-align: top;\n",
              "    }\n",
              "\n",
              "    .dataframe thead th {\n",
              "        text-align: right;\n",
              "    }\n",
              "</style>\n",
              "<table border=\"1\" class=\"dataframe\">\n",
              "  <thead>\n",
              "    <tr style=\"text-align: right;\">\n",
              "      <th></th>\n",
              "      <th>TransactionID</th>\n",
              "      <th>id_01</th>\n",
              "      <th>id_02</th>\n",
              "      <th>id_03</th>\n",
              "      <th>id_04</th>\n",
              "      <th>id_05</th>\n",
              "      <th>id_06</th>\n",
              "      <th>id_07</th>\n",
              "      <th>id_08</th>\n",
              "      <th>id_09</th>\n",
              "      <th>...</th>\n",
              "      <th>V330</th>\n",
              "      <th>V331</th>\n",
              "      <th>V332</th>\n",
              "      <th>V333</th>\n",
              "      <th>V334</th>\n",
              "      <th>V335</th>\n",
              "      <th>V336</th>\n",
              "      <th>V337</th>\n",
              "      <th>V338</th>\n",
              "      <th>V339</th>\n",
              "    </tr>\n",
              "  </thead>\n",
              "  <tbody>\n",
              "    <tr>\n",
              "      <th>0</th>\n",
              "      <td>2987004.0</td>\n",
              "      <td>0.0</td>\n",
              "      <td>70787.0</td>\n",
              "      <td>0.060189</td>\n",
              "      <td>-0.058938</td>\n",
              "      <td>1.615585</td>\n",
              "      <td>-6.69871</td>\n",
              "      <td>13.285354</td>\n",
              "      <td>-38.600388</td>\n",
              "      <td>0.091023</td>\n",
              "      <td>...</td>\n",
              "      <td>0.000000</td>\n",
              "      <td>0.000000</td>\n",
              "      <td>0.000000</td>\n",
              "      <td>0.000000</td>\n",
              "      <td>0.000000</td>\n",
              "      <td>0.000000</td>\n",
              "      <td>0.000000</td>\n",
              "      <td>0.000000</td>\n",
              "      <td>0.000000</td>\n",
              "      <td>0.000000</td>\n",
              "    </tr>\n",
              "    <tr>\n",
              "      <th>1</th>\n",
              "      <td>2987008.0</td>\n",
              "      <td>-5.0</td>\n",
              "      <td>98945.0</td>\n",
              "      <td>0.060189</td>\n",
              "      <td>-0.058938</td>\n",
              "      <td>0.000000</td>\n",
              "      <td>-5.00000</td>\n",
              "      <td>13.285354</td>\n",
              "      <td>-38.600388</td>\n",
              "      <td>0.091023</td>\n",
              "      <td>...</td>\n",
              "      <td>0.000000</td>\n",
              "      <td>0.000000</td>\n",
              "      <td>0.000000</td>\n",
              "      <td>0.000000</td>\n",
              "      <td>0.000000</td>\n",
              "      <td>0.000000</td>\n",
              "      <td>0.000000</td>\n",
              "      <td>0.000000</td>\n",
              "      <td>0.000000</td>\n",
              "      <td>0.000000</td>\n",
              "    </tr>\n",
              "    <tr>\n",
              "      <th>2</th>\n",
              "      <td>2987010.0</td>\n",
              "      <td>-5.0</td>\n",
              "      <td>191631.0</td>\n",
              "      <td>0.000000</td>\n",
              "      <td>0.000000</td>\n",
              "      <td>0.000000</td>\n",
              "      <td>0.00000</td>\n",
              "      <td>13.285354</td>\n",
              "      <td>-38.600388</td>\n",
              "      <td>0.000000</td>\n",
              "      <td>...</td>\n",
              "      <td>0.777733</td>\n",
              "      <td>723.339755</td>\n",
              "      <td>1379.108414</td>\n",
              "      <td>1017.190218</td>\n",
              "      <td>9.837929</td>\n",
              "      <td>59.213495</td>\n",
              "      <td>28.592672</td>\n",
              "      <td>55.461163</td>\n",
              "      <td>151.546395</td>\n",
              "      <td>100.950114</td>\n",
              "    </tr>\n",
              "    <tr>\n",
              "      <th>3</th>\n",
              "      <td>2987011.0</td>\n",
              "      <td>-5.0</td>\n",
              "      <td>221832.0</td>\n",
              "      <td>0.060189</td>\n",
              "      <td>-0.058938</td>\n",
              "      <td>0.000000</td>\n",
              "      <td>-6.00000</td>\n",
              "      <td>13.285354</td>\n",
              "      <td>-38.600388</td>\n",
              "      <td>0.091023</td>\n",
              "      <td>...</td>\n",
              "      <td>0.777733</td>\n",
              "      <td>723.339755</td>\n",
              "      <td>1379.108414</td>\n",
              "      <td>1017.190218</td>\n",
              "      <td>9.837929</td>\n",
              "      <td>59.213495</td>\n",
              "      <td>28.592672</td>\n",
              "      <td>55.461163</td>\n",
              "      <td>151.546395</td>\n",
              "      <td>100.950114</td>\n",
              "    </tr>\n",
              "    <tr>\n",
              "      <th>4</th>\n",
              "      <td>2987016.0</td>\n",
              "      <td>0.0</td>\n",
              "      <td>7460.0</td>\n",
              "      <td>0.000000</td>\n",
              "      <td>0.000000</td>\n",
              "      <td>1.000000</td>\n",
              "      <td>0.00000</td>\n",
              "      <td>13.285354</td>\n",
              "      <td>-38.600388</td>\n",
              "      <td>0.000000</td>\n",
              "      <td>...</td>\n",
              "      <td>0.000000</td>\n",
              "      <td>0.000000</td>\n",
              "      <td>0.000000</td>\n",
              "      <td>0.000000</td>\n",
              "      <td>0.000000</td>\n",
              "      <td>0.000000</td>\n",
              "      <td>0.000000</td>\n",
              "      <td>0.000000</td>\n",
              "      <td>0.000000</td>\n",
              "      <td>0.000000</td>\n",
              "    </tr>\n",
              "    <tr>\n",
              "      <th>...</th>\n",
              "      <td>...</td>\n",
              "      <td>...</td>\n",
              "      <td>...</td>\n",
              "      <td>...</td>\n",
              "      <td>...</td>\n",
              "      <td>...</td>\n",
              "      <td>...</td>\n",
              "      <td>...</td>\n",
              "      <td>...</td>\n",
              "      <td>...</td>\n",
              "      <td>...</td>\n",
              "      <td>...</td>\n",
              "      <td>...</td>\n",
              "      <td>...</td>\n",
              "      <td>...</td>\n",
              "      <td>...</td>\n",
              "      <td>...</td>\n",
              "      <td>...</td>\n",
              "      <td>...</td>\n",
              "      <td>...</td>\n",
              "      <td>...</td>\n",
              "    </tr>\n",
              "    <tr>\n",
              "      <th>144228</th>\n",
              "      <td>3577521.0</td>\n",
              "      <td>-15.0</td>\n",
              "      <td>145955.0</td>\n",
              "      <td>0.000000</td>\n",
              "      <td>0.000000</td>\n",
              "      <td>0.000000</td>\n",
              "      <td>0.00000</td>\n",
              "      <td>13.285354</td>\n",
              "      <td>-38.600388</td>\n",
              "      <td>0.000000</td>\n",
              "      <td>...</td>\n",
              "      <td>0.777733</td>\n",
              "      <td>723.339755</td>\n",
              "      <td>1379.108414</td>\n",
              "      <td>1017.190218</td>\n",
              "      <td>9.837929</td>\n",
              "      <td>59.213495</td>\n",
              "      <td>28.592672</td>\n",
              "      <td>55.461163</td>\n",
              "      <td>151.546395</td>\n",
              "      <td>100.950114</td>\n",
              "    </tr>\n",
              "    <tr>\n",
              "      <th>144229</th>\n",
              "      <td>3577526.0</td>\n",
              "      <td>-5.0</td>\n",
              "      <td>172059.0</td>\n",
              "      <td>0.060189</td>\n",
              "      <td>-0.058938</td>\n",
              "      <td>1.000000</td>\n",
              "      <td>-5.00000</td>\n",
              "      <td>13.285354</td>\n",
              "      <td>-38.600388</td>\n",
              "      <td>0.091023</td>\n",
              "      <td>...</td>\n",
              "      <td>0.000000</td>\n",
              "      <td>0.000000</td>\n",
              "      <td>0.000000</td>\n",
              "      <td>0.000000</td>\n",
              "      <td>0.000000</td>\n",
              "      <td>0.000000</td>\n",
              "      <td>0.000000</td>\n",
              "      <td>0.000000</td>\n",
              "      <td>0.000000</td>\n",
              "      <td>0.000000</td>\n",
              "    </tr>\n",
              "    <tr>\n",
              "      <th>144230</th>\n",
              "      <td>3577529.0</td>\n",
              "      <td>-20.0</td>\n",
              "      <td>632381.0</td>\n",
              "      <td>0.060189</td>\n",
              "      <td>-0.058938</td>\n",
              "      <td>-1.000000</td>\n",
              "      <td>-36.00000</td>\n",
              "      <td>13.285354</td>\n",
              "      <td>-38.600388</td>\n",
              "      <td>0.091023</td>\n",
              "      <td>...</td>\n",
              "      <td>0.777733</td>\n",
              "      <td>723.339755</td>\n",
              "      <td>1379.108414</td>\n",
              "      <td>1017.190218</td>\n",
              "      <td>9.837929</td>\n",
              "      <td>59.213495</td>\n",
              "      <td>28.592672</td>\n",
              "      <td>55.461163</td>\n",
              "      <td>151.546395</td>\n",
              "      <td>100.950114</td>\n",
              "    </tr>\n",
              "    <tr>\n",
              "      <th>144231</th>\n",
              "      <td>3577531.0</td>\n",
              "      <td>-5.0</td>\n",
              "      <td>55528.0</td>\n",
              "      <td>0.000000</td>\n",
              "      <td>0.000000</td>\n",
              "      <td>0.000000</td>\n",
              "      <td>-7.00000</td>\n",
              "      <td>13.285354</td>\n",
              "      <td>-38.600388</td>\n",
              "      <td>0.000000</td>\n",
              "      <td>...</td>\n",
              "      <td>0.000000</td>\n",
              "      <td>0.000000</td>\n",
              "      <td>0.000000</td>\n",
              "      <td>0.000000</td>\n",
              "      <td>0.000000</td>\n",
              "      <td>0.000000</td>\n",
              "      <td>0.000000</td>\n",
              "      <td>0.000000</td>\n",
              "      <td>0.000000</td>\n",
              "      <td>0.000000</td>\n",
              "    </tr>\n",
              "    <tr>\n",
              "      <th>144232</th>\n",
              "      <td>3577534.0</td>\n",
              "      <td>-45.0</td>\n",
              "      <td>339406.0</td>\n",
              "      <td>0.060189</td>\n",
              "      <td>-0.058938</td>\n",
              "      <td>-10.000000</td>\n",
              "      <td>-100.00000</td>\n",
              "      <td>13.285354</td>\n",
              "      <td>-38.600388</td>\n",
              "      <td>0.091023</td>\n",
              "      <td>...</td>\n",
              "      <td>0.777733</td>\n",
              "      <td>723.339755</td>\n",
              "      <td>1379.108414</td>\n",
              "      <td>1017.190218</td>\n",
              "      <td>9.837929</td>\n",
              "      <td>59.213495</td>\n",
              "      <td>28.592672</td>\n",
              "      <td>55.461163</td>\n",
              "      <td>151.546395</td>\n",
              "      <td>100.950114</td>\n",
              "    </tr>\n",
              "  </tbody>\n",
              "</table>\n",
              "<p>144233 rows × 390 columns</p>\n",
              "</div>\n",
              "      <button class=\"colab-df-convert\" onclick=\"convertToInteractive('df-0c3dad0e-d132-4b09-80dd-d5dad14c2cb8')\"\n",
              "              title=\"Convert this dataframe to an interactive table.\"\n",
              "              style=\"display:none;\">\n",
              "        \n",
              "  <svg xmlns=\"http://www.w3.org/2000/svg\" height=\"24px\"viewBox=\"0 0 24 24\"\n",
              "       width=\"24px\">\n",
              "    <path d=\"M0 0h24v24H0V0z\" fill=\"none\"/>\n",
              "    <path d=\"M18.56 5.44l.94 2.06.94-2.06 2.06-.94-2.06-.94-.94-2.06-.94 2.06-2.06.94zm-11 1L8.5 8.5l.94-2.06 2.06-.94-2.06-.94L8.5 2.5l-.94 2.06-2.06.94zm10 10l.94 2.06.94-2.06 2.06-.94-2.06-.94-.94-2.06-.94 2.06-2.06.94z\"/><path d=\"M17.41 7.96l-1.37-1.37c-.4-.4-.92-.59-1.43-.59-.52 0-1.04.2-1.43.59L10.3 9.45l-7.72 7.72c-.78.78-.78 2.05 0 2.83L4 21.41c.39.39.9.59 1.41.59.51 0 1.02-.2 1.41-.59l7.78-7.78 2.81-2.81c.8-.78.8-2.07 0-2.86zM5.41 20L4 18.59l7.72-7.72 1.47 1.35L5.41 20z\"/>\n",
              "  </svg>\n",
              "      </button>\n",
              "      \n",
              "  <style>\n",
              "    .colab-df-container {\n",
              "      display:flex;\n",
              "      flex-wrap:wrap;\n",
              "      gap: 12px;\n",
              "    }\n",
              "\n",
              "    .colab-df-convert {\n",
              "      background-color: #E8F0FE;\n",
              "      border: none;\n",
              "      border-radius: 50%;\n",
              "      cursor: pointer;\n",
              "      display: none;\n",
              "      fill: #1967D2;\n",
              "      height: 32px;\n",
              "      padding: 0 0 0 0;\n",
              "      width: 32px;\n",
              "    }\n",
              "\n",
              "    .colab-df-convert:hover {\n",
              "      background-color: #E2EBFA;\n",
              "      box-shadow: 0px 1px 2px rgba(60, 64, 67, 0.3), 0px 1px 3px 1px rgba(60, 64, 67, 0.15);\n",
              "      fill: #174EA6;\n",
              "    }\n",
              "\n",
              "    [theme=dark] .colab-df-convert {\n",
              "      background-color: #3B4455;\n",
              "      fill: #D2E3FC;\n",
              "    }\n",
              "\n",
              "    [theme=dark] .colab-df-convert:hover {\n",
              "      background-color: #434B5C;\n",
              "      box-shadow: 0px 1px 3px 1px rgba(0, 0, 0, 0.15);\n",
              "      filter: drop-shadow(0px 1px 2px rgba(0, 0, 0, 0.3));\n",
              "      fill: #FFFFFF;\n",
              "    }\n",
              "  </style>\n",
              "\n",
              "      <script>\n",
              "        const buttonEl =\n",
              "          document.querySelector('#df-0c3dad0e-d132-4b09-80dd-d5dad14c2cb8 button.colab-df-convert');\n",
              "        buttonEl.style.display =\n",
              "          google.colab.kernel.accessAllowed ? 'block' : 'none';\n",
              "\n",
              "        async function convertToInteractive(key) {\n",
              "          const element = document.querySelector('#df-0c3dad0e-d132-4b09-80dd-d5dad14c2cb8');\n",
              "          const dataTable =\n",
              "            await google.colab.kernel.invokeFunction('convertToInteractive',\n",
              "                                                     [key], {});\n",
              "          if (!dataTable) return;\n",
              "\n",
              "          const docLinkHtml = 'Like what you see? Visit the ' +\n",
              "            '<a target=\"_blank\" href=https://colab.research.google.com/notebooks/data_table.ipynb>data table notebook</a>'\n",
              "            + ' to learn more about interactive tables.';\n",
              "          element.innerHTML = '';\n",
              "          dataTable['output_type'] = 'display_data';\n",
              "          await google.colab.output.renderOutput(dataTable, element);\n",
              "          const docLink = document.createElement('div');\n",
              "          docLink.innerHTML = docLinkHtml;\n",
              "          element.appendChild(docLink);\n",
              "        }\n",
              "      </script>\n",
              "    </div>\n",
              "  </div>\n",
              "  "
            ]
          },
          "metadata": {},
          "execution_count": 14
        }
      ],
      "source": [
        "imputer = SimpleImputer(strategy='mean')\n",
        "imputer.fit_transform(joined_table).shape\n",
        "mask = pd.DataFrame(imputer.fit_transform(joined_table), columns=joined_table.columns)\n",
        "mask\n"
      ]
    },
    {
      "cell_type": "code",
      "execution_count": 15,
      "id": "8da159ac",
      "metadata": {
        "id": "8da159ac"
      },
      "outputs": [],
      "source": [
        "scaler = preprocessing.MinMaxScaler()\n",
        "mask = scaler.fit_transform(mask)"
      ]
    },
    {
      "cell_type": "code",
      "execution_count": 16,
      "id": "e2e837a0",
      "metadata": {
        "id": "e2e837a0"
      },
      "outputs": [],
      "source": [
        "AE_input = np.array([(m,i) for m, i in zip(np.array(mask), np.array(indicator))])\n"
      ]
    },
    {
      "cell_type": "code",
      "execution_count": 17,
      "id": "7484eff9",
      "metadata": {
        "colab": {
          "base_uri": "https://localhost:8080/"
        },
        "id": "7484eff9",
        "outputId": "6f9a18fb-3647-48ab-ea4e-17eb53d53c0a"
      },
      "outputs": [
        {
          "output_type": "execute_result",
          "data": {
            "text/plain": [
              "(144233, 2, 390)"
            ]
          },
          "metadata": {},
          "execution_count": 17
        }
      ],
      "source": [
        "AE_input.shape"
      ]
    },
    {
      "cell_type": "markdown",
      "id": "33fb0771",
      "metadata": {
        "id": "33fb0771"
      },
      "source": [
        "### 1.2 Autoencoders\n",
        "in this section we are defining different autoencoder models.\n",
        "#### 1.2.1 Undercomplete Autoencoder\n"
      ]
    },
    {
      "cell_type": "code",
      "execution_count": 18,
      "id": "4e1dca07",
      "metadata": {
        "colab": {
          "base_uri": "https://localhost:8080/"
        },
        "id": "4e1dca07",
        "outputId": "51787474-6d9a-4a19-e394-1cf5fd87cad7"
      },
      "outputs": [
        {
          "output_type": "stream",
          "name": "stdout",
          "text": [
            "Requirement already satisfied: torchsummary in /usr/local/lib/python3.7/dist-packages (1.5.1)\n"
          ]
        }
      ],
      "source": [
        "!pip install torchsummary"
      ]
    },
    {
      "cell_type": "code",
      "source": [
        "!nvcc --version"
      ],
      "metadata": {
        "colab": {
          "base_uri": "https://localhost:8080/"
        },
        "id": "B8DcK51AI5AW",
        "outputId": "37a5bd44-8000-47a9-f74d-2358bb115048"
      },
      "id": "B8DcK51AI5AW",
      "execution_count": 19,
      "outputs": [
        {
          "output_type": "stream",
          "name": "stdout",
          "text": [
            "nvcc: NVIDIA (R) Cuda compiler driver\n",
            "Copyright (c) 2005-2020 NVIDIA Corporation\n",
            "Built on Mon_Oct_12_20:09:46_PDT_2020\n",
            "Cuda compilation tools, release 11.1, V11.1.105\n",
            "Build cuda_11.1.TC455_06.29190527_0\n"
          ]
        }
      ]
    },
    {
      "cell_type": "code",
      "execution_count": 20,
      "id": "db180ab7",
      "metadata": {
        "id": "db180ab7"
      },
      "outputs": [],
      "source": [
        "import torch\n",
        "import torch.nn as nn\n",
        "import torch.optim as optim\n",
        "from torchsummary import summary\n",
        "from torch.utils.data import TensorDataset, DataLoader\n",
        "import torch.nn.functional as F\n",
        "\n",
        "device = 'cpu'\n",
        "# device = torch.device(\"cuda\" if torch.cuda.is_available() else \"cpu\")\n",
        "# device"
      ]
    },
    {
      "cell_type": "code",
      "execution_count": 21,
      "id": "e78e2636",
      "metadata": {
        "id": "e78e2636"
      },
      "outputs": [],
      "source": [
        "## Undercomplete\n",
        "class autoencoder(nn.Module):\n",
        "    def __init__(self, input_size, latent_dim):\n",
        "      super(autoencoder, self).__init__()\n",
        "      # Step 1 : Define the encoder \n",
        "      # Step 2 : Define the decoder\n",
        "      # Step 3 : Initialize the weights (optional)\n",
        "      self.encoder = nn.Sequential(\n",
        "          nn.Linear(input_size, input_size//2),\n",
        "          nn.ReLU(True),\n",
        "          nn.Linear(input_size//2, input_size//3),\n",
        "          nn.Linear(input_size//3, input_size//4),\n",
        "          nn.Tanh(),\n",
        "          nn.Linear(input_size//4, latent_dim)\n",
        "      )\n",
        "      self.decoder = nn.Sequential(\n",
        "          nn.Linear(latent_dim, input_size//4),\n",
        "          nn.ReLU(True),\n",
        "          nn.Linear(input_size//4, input_size//3),\n",
        "          nn.Linear(input_size//3, input_size//2),\n",
        "          nn.Tanh(),\n",
        "          nn.Linear(input_size//2, input_size)\n",
        "      )\n",
        "      self.encoder.apply(self.__init_weights)\n",
        "      self.decoder.apply(self.__init_weights)\n",
        "        \n",
        "    def forward(self, x):\n",
        "      # Step 1: Pass the input through encoder to get latent representation\n",
        "      # Step 2: Take latent representation and pass through decoder\n",
        "      x = self.encoder(x)\n",
        "      x = self.decoder(x)\n",
        "      return x\n",
        "        \n",
        "        \n",
        "    \n",
        "    def encode(self,input):\n",
        "      #Step 1: Pass the input through the encoder to get latent representation\n",
        "      return self.encoder(input)\n",
        "    \n",
        "    def __init_weights(self,m):\n",
        "      #Init the weights (optional)\n",
        "      if type(m) == nn.Linear:\n",
        "          torch.nn.init.xavier_uniform_(m.weight)\n",
        "          m.bias.data.fill_(0.01)"
      ]
    },
    {
      "cell_type": "code",
      "execution_count": 22,
      "id": "e43adaa6",
      "metadata": {
        "id": "e43adaa6"
      },
      "outputs": [],
      "source": [
        "#Create a random dataset\n",
        "data_loader = DataLoader(AE_input,batch_size=32,shuffle=True)"
      ]
    },
    {
      "cell_type": "code",
      "execution_count": 23,
      "id": "cbd895aa",
      "metadata": {
        "colab": {
          "base_uri": "https://localhost:8080/"
        },
        "id": "cbd895aa",
        "outputId": "fc6d89db-ed54-486d-d979-5c8fb04a8be0"
      },
      "outputs": [
        {
          "output_type": "stream",
          "name": "stdout",
          "text": [
            "autoencoder(\n",
            "  (encoder): Sequential(\n",
            "    (0): Linear(in_features=390, out_features=195, bias=True)\n",
            "    (1): ReLU(inplace=True)\n",
            "    (2): Linear(in_features=195, out_features=130, bias=True)\n",
            "    (3): Linear(in_features=130, out_features=97, bias=True)\n",
            "    (4): Tanh()\n",
            "    (5): Linear(in_features=97, out_features=20, bias=True)\n",
            "  )\n",
            "  (decoder): Sequential(\n",
            "    (0): Linear(in_features=20, out_features=97, bias=True)\n",
            "    (1): ReLU(inplace=True)\n",
            "    (2): Linear(in_features=97, out_features=130, bias=True)\n",
            "    (3): Linear(in_features=130, out_features=195, bias=True)\n",
            "    (4): Tanh()\n",
            "    (5): Linear(in_features=195, out_features=390, bias=True)\n",
            "  )\n",
            ")\n"
          ]
        }
      ],
      "source": [
        "batchSize = 100\n",
        "learning_rate = 0.05\n",
        "num_epochs = 20\n",
        "sample = torch.randn((batchSize,1,64))\n",
        "AE = autoencoder(AE_input.shape[-1],20).to(device)\n",
        "print(AE)\n",
        "# print(summary(AE,input_size=(1, 64)))\n",
        "\n",
        "criterion = nn.L1Loss()\n",
        "optimizer = torch.optim.Adam(AE.parameters(),lr=learning_rate)\n",
        "\n"
      ]
    },
    {
      "cell_type": "markdown",
      "id": "dc76c986",
      "metadata": {
        "id": "dc76c986"
      },
      "source": [
        "### 1.2 Undercomplete Autoencode"
      ]
    },
    {
      "cell_type": "code",
      "execution_count": 24,
      "id": "8da851c6",
      "metadata": {
        "colab": {
          "base_uri": "https://localhost:8080/"
        },
        "id": "8da851c6",
        "outputId": "264dd3b2-e7de-489f-e2bd-d154ce1eef3a"
      },
      "outputs": [
        {
          "output_type": "stream",
          "name": "stdout",
          "text": [
            "epoch [1/10], loss:260.4081\n",
            "epoch [2/10], loss:159.3112\n",
            "epoch [3/10], loss:139.7841\n",
            "epoch [4/10], loss:131.8351\n",
            "epoch [5/10], loss:126.6451\n",
            "epoch [6/10], loss:122.5385\n",
            "epoch [7/10], loss:119.6417\n",
            "epoch [8/10], loss:116.9469\n",
            "epoch [9/10], loss:115.2611\n",
            "epoch [10/10], loss:113.8757\n"
          ]
        }
      ],
      "source": [
        "learning_rate = 0.002 \n",
        "num_epochs = 10\n",
        "criterion = nn.L1Loss(reduction='sum').to(device)\n",
        "optimizer = torch.optim.Adam(AE.parameters(),lr=learning_rate)\n",
        "data_loader = DataLoader(AE_input, batch_size=64,shuffle=True)\n",
        " \n",
        "X_reconstuct = [] \n",
        "Original_X = [] \n",
        "I_X = [] \n",
        "for epoch in range(num_epochs): \n",
        "  epoch_loss = list() \n",
        "  for X_batch in data_loader: \n",
        "#     print(X_batch.shape) \n",
        "    X, indic = X_batch[:, 0, :].to(device), X_batch[:, 1, :].to(device) \n",
        "#     print(X.shape) \n",
        "    optimizer.zero_grad() \n",
        "    \n",
        "    X_hat = AE(X.float()) \n",
        "    loss = criterion(indic * X, indic* X_hat) \n",
        " \n",
        "    loss.backward() \n",
        "    optimizer.step() \n",
        " \n",
        "    epoch_loss.append(loss.item()) \n",
        "     \n",
        "  # with torch.no_grad(): \n",
        "  #   X_reconstuct.append(AE(X.float())) \n",
        "  #   Original_X.append(X) \n",
        "  #   I_X.append(1 - indic) \n",
        "     \n",
        "  print('epoch [{}/{}], loss:{:.4f}'.format(epoch + 1, num_epochs, np.mean(epoch_loss)))\n",
        "\n",
        "PATH = 'Undercomplete.pth'\n",
        "torch.save(AE, PATH)"
      ]
    },
    {
      "cell_type": "markdown",
      "source": [
        "Reconstructing data:"
      ],
      "metadata": {
        "id": "NBaY1rw4v8Md"
      },
      "id": "NBaY1rw4v8Md"
    },
    {
      "cell_type": "code",
      "source": [
        "data_loader = DataLoader(AE_input, batch_size=64,shuffle=False) \n",
        "X_reconstruct = []\n",
        "for X_batch in data_loader:\n",
        "  for X in X_batch[:, 0, :]:\n",
        "    with torch.no_grad():\n",
        "        AE.eval()\n",
        "        X_reconstruct.append(AE(X.float()).numpy())\n",
        "  \n",
        "np.array(X_reconstruct).shape\n",
        "    \n",
        "\n"
      ],
      "metadata": {
        "colab": {
          "base_uri": "https://localhost:8080/"
        },
        "id": "jKigNdMbb7dn",
        "outputId": "c2ffdb23-b13b-43aa-cccf-bf1d91703ca8"
      },
      "id": "jKigNdMbb7dn",
      "execution_count": 25,
      "outputs": [
        {
          "output_type": "execute_result",
          "data": {
            "text/plain": [
              "(144233, 390)"
            ]
          },
          "metadata": {},
          "execution_count": 25
        }
      ]
    },
    {
      "cell_type": "code",
      "source": [
        "X_reconst = pd.DataFrame(X_reconstruct)\n",
        "y.shape"
      ],
      "metadata": {
        "colab": {
          "base_uri": "https://localhost:8080/"
        },
        "id": "1iz7VQVgepM3",
        "outputId": "5580adbc-f0a4-40f7-d6ce-17bad025080c"
      },
      "id": "1iz7VQVgepM3",
      "execution_count": 26,
      "outputs": [
        {
          "output_type": "execute_result",
          "data": {
            "text/plain": [
              "(144233,)"
            ]
          },
          "metadata": {},
          "execution_count": 26
        }
      ]
    },
    {
      "cell_type": "markdown",
      "source": [
        "Here we are defing a function to split the data since we are going to try with different statistical methods."
      ],
      "metadata": {
        "id": "_7YIEBT5m3Xd"
      },
      "id": "_7YIEBT5m3Xd"
    },
    {
      "cell_type": "code",
      "source": [
        "def split(data, label):\n",
        "  X_train, X_test, y_train, y_test = train_test_split(\n",
        "  data, label, test_size=0.2, random_state=42)\n",
        "  return X_train, X_test, y_train, y_test\n"
      ],
      "metadata": {
        "id": "sVfHog83kKAt"
      },
      "id": "sVfHog83kKAt",
      "execution_count": 27,
      "outputs": []
    },
    {
      "cell_type": "markdown",
      "source": [
        "Splitting **the reconstructed** data from **Undercomplete** AE:"
      ],
      "metadata": {
        "id": "O-nqENMCnjJb"
      },
      "id": "O-nqENMCnjJb"
    },
    {
      "cell_type": "code",
      "source": [
        "X_train, X_test, y_train, y_test = split(X_reconst, y)"
      ],
      "metadata": {
        "id": "yVqCTQ6nmynH"
      },
      "id": "yVqCTQ6nmynH",
      "execution_count": 28,
      "outputs": []
    },
    {
      "cell_type": "code",
      "source": [
        "clf = RandomForestClassifier(max_depth=2, random_state=0)\n",
        "clf.fit(X_train, y_train)\n",
        "y_pred = clf.predict(X_test)\n",
        "print(classification_report(y_test, y_pred))"
      ],
      "metadata": {
        "colab": {
          "base_uri": "https://localhost:8080/"
        },
        "id": "9ofWW17LvuJs",
        "outputId": "ab4b4bfb-2eff-486e-c902-156b40c7db90"
      },
      "id": "9ofWW17LvuJs",
      "execution_count": 29,
      "outputs": [
        {
          "output_type": "stream",
          "name": "stdout",
          "text": [
            "              precision    recall  f1-score   support\n",
            "\n",
            "           0       0.94      0.99      0.97     26587\n",
            "           1       0.76      0.26      0.39      2260\n",
            "\n",
            "    accuracy                           0.94     28847\n",
            "   macro avg       0.85      0.63      0.68     28847\n",
            "weighted avg       0.93      0.94      0.92     28847\n",
            "\n"
          ]
        }
      ]
    },
    {
      "cell_type": "markdown",
      "id": "80215371",
      "metadata": {
        "id": "80215371"
      },
      "source": [
        "### 1.3 Regularized Autoencoder"
      ]
    },
    {
      "cell_type": "markdown",
      "source": [
        "#### **Note**: since the architecture is the same as Undercomplete AE, so in next cell we are just calling it."
      ],
      "metadata": {
        "id": "tM9Ma_4wZQXn"
      },
      "id": "tM9Ma_4wZQXn"
    },
    {
      "cell_type": "code",
      "source": [
        "AE = autoencoder(AE_input.shape[-1],20).to(device)"
      ],
      "metadata": {
        "id": "mOOvOyUew2-B"
      },
      "id": "mOOvOyUew2-B",
      "execution_count": 30,
      "outputs": []
    },
    {
      "cell_type": "code",
      "execution_count": 31,
      "id": "27ece11b",
      "metadata": {
        "id": "27ece11b"
      },
      "outputs": [],
      "source": [
        "def sparse_loss(autoencoder, data):\n",
        "    loss = 0\n",
        "    values = data\n",
        "    for i in range(len(list(AE.children()))):\n",
        "        values = F.relu((list(AE.children())[i](values)))\n",
        "        loss += torch.mean(torch.abs(values))\n",
        "    return loss"
      ]
    },
    {
      "cell_type": "code",
      "execution_count": 32,
      "id": "1ff60c91",
      "metadata": {
        "colab": {
          "base_uri": "https://localhost:8080/"
        },
        "id": "1ff60c91",
        "outputId": "b8ef5587-2af1-4545-c938-ea9fd84c4c40"
      },
      "outputs": [
        {
          "output_type": "stream",
          "name": "stdout",
          "text": [
            "epoch [1/10], loss:280.2812\n",
            "epoch [2/10], loss:169.2818\n",
            "epoch [3/10], loss:143.3189\n",
            "epoch [4/10], loss:136.0090\n",
            "epoch [5/10], loss:131.3309\n",
            "epoch [6/10], loss:127.6885\n",
            "epoch [7/10], loss:125.3511\n",
            "epoch [8/10], loss:123.2099\n",
            "epoch [9/10], loss:118.7968\n",
            "epoch [10/10], loss:116.1704\n"
          ]
        }
      ],
      "source": [
        "learning_rate = 0.002 \n",
        "num_epochs = 10\n",
        "criterion = nn.L1Loss(reduction='sum') \n",
        "optimizer = torch.optim.Adam(AE.parameters(),lr=learning_rate) \n",
        "data_loader = DataLoader(AE_input, batch_size=64,shuffle=True) \n",
        " \n",
        "X_reconstuct = [] \n",
        "Original_X = [] \n",
        "I_X = [] \n",
        "reg_param = 1.0\n",
        "\n",
        "for epoch in range(num_epochs): \n",
        "  epoch_loss = list() \n",
        "  for X_batch in data_loader: \n",
        "    X, indic = X_batch[:, 0, :].to(device), X_batch[:, 1, :].to(device) \n",
        "    optimizer.zero_grad() \n",
        "     \n",
        "    X_hat = AE(X.float()) \n",
        "    loss = criterion(indic * X, indic* X_hat) \n",
        "    l1_loss = sparse_loss(AE, X.float())\n",
        "    loss = loss + reg_param * l1_loss\n",
        "\n",
        "    loss.backward() \n",
        "    optimizer.step() \n",
        " \n",
        "    epoch_loss.append(loss.item()) \n",
        "     \n",
        "  with torch.no_grad(): \n",
        "    X_reconstuct.append(AE(X.float())) \n",
        "    Original_X.append(X) \n",
        "    I_X.append(1 - indic) \n",
        "     \n",
        "  print('epoch [{}/{}], loss:{:.4f}'.format(epoch + 1, num_epochs, np.mean(epoch_loss)))\n",
        "\n",
        "\n",
        "PATH = 'Regularized.pth'\n",
        "torch.save(AE, PATH)"
      ]
    },
    {
      "cell_type": "markdown",
      "source": [
        "Reconstructing data:"
      ],
      "metadata": {
        "id": "HtF7Wap1wPr7"
      },
      "id": "HtF7Wap1wPr7"
    },
    {
      "cell_type": "code",
      "source": [
        "data_loader = DataLoader(AE_input, batch_size=64,shuffle=False) \n",
        "X_reconstruct = []\n",
        "for X_batch in data_loader:\n",
        "  for X in X_batch[:, 0, :]:\n",
        "    with torch.no_grad():\n",
        "        AE.eval()\n",
        "        X_reconstruct.append(AE(X.float()).numpy())\n",
        "  \n",
        "X_reconst = pd.DataFrame(X_reconstruct)\n",
        "\n"
      ],
      "metadata": {
        "id": "KteGEu-uwOss"
      },
      "id": "KteGEu-uwOss",
      "execution_count": 33,
      "outputs": []
    },
    {
      "cell_type": "markdown",
      "source": [
        "split Reconstructed data"
      ],
      "metadata": {
        "id": "3AT1_eEKxaCj"
      },
      "id": "3AT1_eEKxaCj"
    },
    {
      "cell_type": "code",
      "source": [
        "X_train, X_test, y_train, y_test = split(X_reconst, y)"
      ],
      "metadata": {
        "id": "0FDmEwshxZer"
      },
      "id": "0FDmEwshxZer",
      "execution_count": 34,
      "outputs": []
    },
    {
      "cell_type": "markdown",
      "source": [
        "Classificatying reconstructed data from **Regularized** model:"
      ],
      "metadata": {
        "id": "Xa1IV3whxAxs"
      },
      "id": "Xa1IV3whxAxs"
    },
    {
      "cell_type": "code",
      "execution_count": 35,
      "id": "c0aaa254",
      "metadata": {
        "colab": {
          "base_uri": "https://localhost:8080/"
        },
        "id": "c0aaa254",
        "outputId": "2313d03d-f461-466b-cadd-e867536c8058"
      },
      "outputs": [
        {
          "output_type": "stream",
          "name": "stdout",
          "text": [
            "              precision    recall  f1-score   support\n",
            "\n",
            "           0       1.00      1.00      1.00     26587\n",
            "           1       1.00      0.96      0.98      2260\n",
            "\n",
            "    accuracy                           1.00     28847\n",
            "   macro avg       1.00      0.98      0.99     28847\n",
            "weighted avg       1.00      1.00      1.00     28847\n",
            "\n"
          ]
        }
      ],
      "source": [
        "clf = RandomForestClassifier(max_depth=2, random_state=0)\n",
        "clf.fit(X_train, y_train)\n",
        "y_pred = clf.predict(X_test)\n",
        "print(classification_report(y_test, y_pred))"
      ]
    },
    {
      "cell_type": "markdown",
      "source": [
        "### 1.4 VAE Autoencoder"
      ],
      "metadata": {
        "id": "M_MHZWv1y87d"
      },
      "id": "M_MHZWv1y87d"
    },
    {
      "cell_type": "markdown",
      "source": [
        "Defining the model"
      ],
      "metadata": {
        "id": "8Z3P-4CB89Wo"
      },
      "id": "8Z3P-4CB89Wo"
    },
    {
      "cell_type": "code",
      "execution_count": 36,
      "id": "471c6f92",
      "metadata": {
        "id": "471c6f92"
      },
      "outputs": [],
      "source": [
        "# VAE model\n",
        "class VAE(nn.Module):\n",
        "    def __init__(self, image_size=390, h_dim=120, z_dim=50):\n",
        "        super(VAE, self).__init__()\n",
        "        self.fc1 = nn.Linear(image_size, h_dim)\n",
        "        self.fc2 = nn.Linear(h_dim, z_dim)\n",
        "        self.fc3 = nn.Linear(h_dim, z_dim)\n",
        "        self.fc4 = nn.Linear(z_dim, h_dim)\n",
        "        self.fc5 = nn.Linear(h_dim, image_size)\n",
        "        \n",
        "    def encode(self, x):\n",
        "#         h = F.relu(self.fc1(x))\n",
        "        h = F.relu(self.fc1(x))\n",
        "        return self.fc2(h), self.fc3(h)\n",
        "    \n",
        "    def reparameterize(self, mu, log_var):\n",
        "        std = torch.exp(log_var/2)\n",
        "        eps = torch.randn_like(std)\n",
        "#         print(std)\n",
        "        return mu + eps * std\n",
        "\n",
        "    def decode(self, z):\n",
        "#         h = F.relu(self.fc4(z))\n",
        "        h = F.relu(self.fc4(z))\n",
        "        return F.relu(self.fc5(h))\n",
        "    \n",
        "    def forward(self, x):\n",
        "        mu, log_var = self.encode(x)\n",
        "#         print(log_var)\n",
        "        z = self.reparameterize(mu, log_var)\n",
        "#         print(z)\n",
        "        x_reconst = self.decode(z)\n",
        "#         print(x_reconst)\n",
        "        return x_reconst, mu, log_var\n",
        "\n",
        "model = VAE().to(device)\n",
        "optimizer = torch.optim.Adam(model.parameters(), lr=learning_rate)"
      ]
    },
    {
      "cell_type": "markdown",
      "source": [
        "Defining train loop:"
      ],
      "metadata": {
        "id": "OxeIOA4e8_il"
      },
      "id": "OxeIOA4e8_il"
    },
    {
      "cell_type": "code",
      "execution_count": 37,
      "id": "648e1d9b",
      "metadata": {
        "colab": {
          "base_uri": "https://localhost:8080/"
        },
        "id": "648e1d9b",
        "outputId": "14d1b31c-17fb-4c16-9ec5-ab7c52c7aa6f"
      },
      "outputs": [
        {
          "output_type": "stream",
          "name": "stdout",
          "text": [
            "epoch [1/10], loss:531.2328\n",
            "epoch [2/10], loss:519.9800\n",
            "epoch [3/10], loss:515.2878\n",
            "epoch [4/10], loss:511.8008\n",
            "epoch [5/10], loss:509.2840\n",
            "epoch [6/10], loss:507.0714\n",
            "epoch [7/10], loss:504.6674\n",
            "epoch [8/10], loss:500.6825\n",
            "epoch [9/10], loss:497.1288\n",
            "epoch [10/10], loss:493.9896\n"
          ]
        }
      ],
      "source": [
        "# Start training\n",
        "batchSize = 64 \n",
        "learning_rate = 0.05 \n",
        "num_epochs = 10\n",
        "X_reconstuct = []\n",
        "Original_X = []\n",
        "I_X = []\n",
        "epoch_loss = []\n",
        "\n",
        "for epoch in range(num_epochs):\n",
        "    for  X_batch in data_loader:\n",
        "        x, indic = X_batch[:, 0, :].to(device), X_batch[:, 1, :].to(device)\n",
        "        x_reconst, mu, log_var = model(x.float())\n",
        "        reconst_loss = criterion(indic * x, indic * x_reconst)\n",
        "        kl_div = - 0.5 * torch.sum(1 + log_var - mu.pow(2) - log_var.exp())\n",
        "        \n",
        "        # Backprop and optimize\n",
        "        loss = reconst_loss + kl_div\n",
        "        epoch_loss.append(loss.item())\n",
        "        optimizer.zero_grad()\n",
        "        loss.backward()\n",
        "        optimizer.step()\n",
        "        \n",
        "    print('epoch [{}/{}], loss:{:.4f}'.format(epoch + 1, num_epochs, np.mean(epoch_loss)))\n",
        "\n",
        "\n",
        "\n",
        "PATH = 'VAE.pth'\n",
        "torch.save(model, PATH)"
      ]
    },
    {
      "cell_type": "markdown",
      "source": [
        "Regenerating data using **VAE**:"
      ],
      "metadata": {
        "id": "n3DKjwz39D-r"
      },
      "id": "n3DKjwz39D-r"
    },
    {
      "cell_type": "code",
      "source": [
        "data_loader = DataLoader(AE_input, batch_size=64,shuffle=False) \n",
        "X_reconstruct = []\n",
        "for X_batch in data_loader:\n",
        "  for X in X_batch[:, 0, :]:\n",
        "    with torch.no_grad():\n",
        "        model.eval()\n",
        "        # print(model(X.float())[0])\n",
        "        output,_,_ = model(X.float())\n",
        "        X_reconstruct.append(output.numpy())\n",
        "  \n",
        "X_reconst_VAE = pd.DataFrame(X_reconstruct)\n",
        "    \n",
        "\n"
      ],
      "metadata": {
        "id": "dsXUBQxW8B2n"
      },
      "id": "dsXUBQxW8B2n",
      "execution_count": 38,
      "outputs": []
    },
    {
      "cell_type": "code",
      "source": [
        "X_train, X_test, y_train, y_test = split(X_reconst_VAE, y)"
      ],
      "metadata": {
        "id": "OGjNMrztHWMw"
      },
      "id": "OGjNMrztHWMw",
      "execution_count": 39,
      "outputs": []
    },
    {
      "cell_type": "code",
      "source": [
        "clf = RandomForestClassifier(max_depth=2, random_state=0)\n",
        "clf.fit(X_train, y_train)\n",
        "y_pred = clf.predict(X_test)\n",
        "print(classification_report(y_test, y_pred))"
      ],
      "metadata": {
        "colab": {
          "base_uri": "https://localhost:8080/"
        },
        "id": "a-WvZLX7Ha6o",
        "outputId": "a269e07a-1010-47f5-cc71-3dbd930ab120"
      },
      "id": "a-WvZLX7Ha6o",
      "execution_count": 40,
      "outputs": [
        {
          "output_type": "stream",
          "name": "stdout",
          "text": [
            "              precision    recall  f1-score   support\n",
            "\n",
            "           0       0.92      1.00      0.96     26587\n",
            "           1       0.00      0.00      0.00      2260\n",
            "\n",
            "    accuracy                           0.92     28847\n",
            "   macro avg       0.46      0.50      0.48     28847\n",
            "weighted avg       0.85      0.92      0.88     28847\n",
            "\n"
          ]
        },
        {
          "output_type": "stream",
          "name": "stderr",
          "text": [
            "/usr/local/lib/python3.7/dist-packages/sklearn/metrics/_classification.py:1318: UndefinedMetricWarning: Precision and F-score are ill-defined and being set to 0.0 in labels with no predicted samples. Use `zero_division` parameter to control this behavior.\n",
            "  _warn_prf(average, modifier, msg_start, len(result))\n",
            "/usr/local/lib/python3.7/dist-packages/sklearn/metrics/_classification.py:1318: UndefinedMetricWarning: Precision and F-score are ill-defined and being set to 0.0 in labels with no predicted samples. Use `zero_division` parameter to control this behavior.\n",
            "  _warn_prf(average, modifier, msg_start, len(result))\n",
            "/usr/local/lib/python3.7/dist-packages/sklearn/metrics/_classification.py:1318: UndefinedMetricWarning: Precision and F-score are ill-defined and being set to 0.0 in labels with no predicted samples. Use `zero_division` parameter to control this behavior.\n",
            "  _warn_prf(average, modifier, msg_start, len(result))\n"
          ]
        }
      ]
    },
    {
      "cell_type": "markdown",
      "source": [
        "### 1.5 Statistical Approaches"
      ],
      "metadata": {
        "id": "JcBQK687d8uv"
      },
      "id": "JcBQK687d8uv"
    },
    {
      "cell_type": "markdown",
      "source": [
        "Splitting the data which is imputed with **mean** value on the original value: "
      ],
      "metadata": {
        "id": "lJEgMvGQgSlp"
      },
      "id": "lJEgMvGQgSlp"
    },
    {
      "cell_type": "code",
      "source": [
        "X_train, X_test, y_train, y_test = split(mask, y)"
      ],
      "metadata": {
        "id": "cd8ytLktgUsk"
      },
      "id": "cd8ytLktgUsk",
      "execution_count": 41,
      "outputs": []
    },
    {
      "cell_type": "code",
      "source": [
        "clf = RandomForestClassifier(max_depth=2, random_state=0)\n",
        "clf.fit(X_train, y_train)\n",
        "y_pred = clf.predict(X_test)\n",
        "print(classification_report(y_test, y_pred))\n"
      ],
      "metadata": {
        "colab": {
          "base_uri": "https://localhost:8080/"
        },
        "id": "a74XWpirgikN",
        "outputId": "61a8a8ee-9fe6-4501-e4a2-b3bc65209a5d"
      },
      "id": "a74XWpirgikN",
      "execution_count": 42,
      "outputs": [
        {
          "output_type": "stream",
          "name": "stdout",
          "text": [
            "              precision    recall  f1-score   support\n",
            "\n",
            "           0       0.94      1.00      0.97     26587\n",
            "           1       0.99      0.26      0.42      2260\n",
            "\n",
            "    accuracy                           0.94     28847\n",
            "   macro avg       0.97      0.63      0.69     28847\n",
            "weighted avg       0.95      0.94      0.93     28847\n",
            "\n"
          ]
        }
      ]
    },
    {
      "cell_type": "markdown",
      "source": [
        "#### 1.5.1 Oversampling"
      ],
      "metadata": {
        "id": "GaDIw8PK6YIO"
      },
      "id": "GaDIw8PK6YIO"
    },
    {
      "cell_type": "markdown",
      "source": [
        "Now here we are trying wiht oversampler from sklearn imbalance library.\n",
        "\n",
        "This is the result of calssification with **mean** imputation on Oversample data. the recall is highly increased."
      ],
      "metadata": {
        "id": "roE2qI1rgny0"
      },
      "id": "roE2qI1rgny0"
    },
    {
      "cell_type": "code",
      "source": [
        "oversample = SMOTE()\n",
        "X_over, y_over = oversample.fit_resample(X_train ,y_train)\n",
        "\n",
        "clf = RandomForestClassifier(max_depth=2, random_state=0)\n",
        "clf.fit(X_over, y_over)\n",
        "y_pred = clf.predict(X_test)\n",
        "print(classification_report(y_test, y_pred))\n"
      ],
      "metadata": {
        "colab": {
          "base_uri": "https://localhost:8080/"
        },
        "id": "LJt0vb_uii2-",
        "outputId": "2f2c6447-9ef7-4cce-c625-7e33c3c77ba1"
      },
      "id": "LJt0vb_uii2-",
      "execution_count": 43,
      "outputs": [
        {
          "output_type": "stream",
          "name": "stdout",
          "text": [
            "              precision    recall  f1-score   support\n",
            "\n",
            "           0       0.98      0.92      0.95     26587\n",
            "           1       0.44      0.77      0.56      2260\n",
            "\n",
            "    accuracy                           0.90     28847\n",
            "   macro avg       0.71      0.84      0.75     28847\n",
            "weighted avg       0.94      0.90      0.92     28847\n",
            "\n"
          ]
        }
      ]
    },
    {
      "cell_type": "markdown",
      "source": [
        "And here we try **Regularized AE** with Oversample data"
      ],
      "metadata": {
        "id": "9GcL8dlh5sWA"
      },
      "id": "9GcL8dlh5sWA"
    },
    {
      "cell_type": "code",
      "source": [
        "X_train, X_test, y_train, y_test = split(X_reconst, y)"
      ],
      "metadata": {
        "id": "_i0Uf-hD5rsh"
      },
      "id": "_i0Uf-hD5rsh",
      "execution_count": 44,
      "outputs": []
    },
    {
      "cell_type": "code",
      "source": [
        "X_over, y_over = oversample.fit_resample(X_train ,y_train)\n",
        "clf = RandomForestClassifier(max_depth=2, random_state=0)\n",
        "clf.fit(X_over, y_over)\n",
        "y_pred = clf.predict(X_test)\n",
        "print(classification_report(y_test, y_pred))"
      ],
      "metadata": {
        "colab": {
          "base_uri": "https://localhost:8080/"
        },
        "id": "kSs9A6HI5Ymz",
        "outputId": "724463af-56d7-4e45-863d-1283b4dcb315"
      },
      "id": "kSs9A6HI5Ymz",
      "execution_count": 45,
      "outputs": [
        {
          "output_type": "stream",
          "name": "stdout",
          "text": [
            "              precision    recall  f1-score   support\n",
            "\n",
            "           0       1.00      1.00      1.00     26587\n",
            "           1       0.99      1.00      0.99      2260\n",
            "\n",
            "    accuracy                           1.00     28847\n",
            "   macro avg       0.99      1.00      1.00     28847\n",
            "weighted avg       1.00      1.00      1.00     28847\n",
            "\n"
          ]
        }
      ]
    },
    {
      "cell_type": "code",
      "source": [
        "from imblearn.under_sampling import RandomUnderSampler\n",
        "rus = RandomUnderSampler(random_state=0)\n",
        "X_resampled, y_resampled = rus.fit_resample(joined_table,y)\n",
        "X_resampled.shape\n"
      ],
      "metadata": {
        "colab": {
          "base_uri": "https://localhost:8080/"
        },
        "id": "_8OJce-Ud5gt",
        "outputId": "59291a22-cfd8-4149-e011-dddc085eaa0c"
      },
      "id": "_8OJce-Ud5gt",
      "execution_count": 46,
      "outputs": [
        {
          "output_type": "execute_result",
          "data": {
            "text/plain": [
              "(22636, 390)"
            ]
          },
          "metadata": {},
          "execution_count": 46
        }
      ]
    },
    {
      "cell_type": "markdown",
      "source": [
        "And Finally we assess the classification accuracy of **VAE** on Oversample data"
      ],
      "metadata": {
        "id": "AKWV23tm79M5"
      },
      "id": "AKWV23tm79M5"
    },
    {
      "cell_type": "code",
      "source": [
        "X_train, X_test, y_train, y_test = split(X_reconst_VAE, y)"
      ],
      "metadata": {
        "id": "pOOHwNd678vZ"
      },
      "id": "pOOHwNd678vZ",
      "execution_count": 47,
      "outputs": []
    },
    {
      "cell_type": "code",
      "source": [
        "X_over, y_over = oversample.fit_resample(X_train ,y_train)\n",
        "clf = RandomForestClassifier(max_depth=2, random_state=0)\n",
        "clf.fit(X_over, y_over)\n",
        "y_pred = clf.predict(X_test)\n",
        "print(classification_report(y_test, y_pred))"
      ],
      "metadata": {
        "colab": {
          "base_uri": "https://localhost:8080/"
        },
        "id": "6RmqbFRh8fF7",
        "outputId": "7ea9dd7f-1f69-41ab-e0e3-d6bbe6559d9c"
      },
      "id": "6RmqbFRh8fF7",
      "execution_count": 48,
      "outputs": [
        {
          "output_type": "stream",
          "name": "stdout",
          "text": [
            "              precision    recall  f1-score   support\n",
            "\n",
            "           0       0.85      0.00      0.00     26587\n",
            "           1       0.08      1.00      0.14      2260\n",
            "\n",
            "    accuracy                           0.08     28847\n",
            "   macro avg       0.46      0.50      0.07     28847\n",
            "weighted avg       0.79      0.08      0.02     28847\n",
            "\n"
          ]
        }
      ]
    },
    {
      "cell_type": "markdown",
      "source": [
        "### 1.6 Dimentionality Reduction Effect\n"
      ],
      "metadata": {
        "id": "sRtZaPsba8KI"
      },
      "id": "sRtZaPsba8KI"
    },
    {
      "cell_type": "markdown",
      "source": [
        "Here we are reconstructing the data with **Regularized Autoencoder** and we want to see the impact of dimention reduction:"
      ],
      "metadata": {
        "id": "tCkbFqrbNRmN"
      },
      "id": "tCkbFqrbNRmN"
    },
    {
      "cell_type": "code",
      "source": [
        "AE = torch.load('Regularized.pth')\n",
        "data_loader = DataLoader(AE_input, batch_size=64,shuffle=False) \n",
        "X_reconstruct = []\n",
        "for X_batch in data_loader:\n",
        "  for X in X_batch[:, 0, :]:\n",
        "    with torch.no_grad():\n",
        "        AE.eval()\n",
        "        X_reconstruct.append(AE(X.float()).numpy())\n",
        "  \n",
        "X_reconst = pd.DataFrame(X_reconstruct)"
      ],
      "metadata": {
        "id": "fMq82v3jKx28"
      },
      "id": "fMq82v3jKx28",
      "execution_count": 49,
      "outputs": []
    },
    {
      "cell_type": "markdown",
      "source": [
        "#### 1.6.1 Principal Component Analysis"
      ],
      "metadata": {
        "id": "R3U0uWOVbH1h"
      },
      "id": "R3U0uWOVbH1h"
    },
    {
      "cell_type": "markdown",
      "source": [
        "To perform PCA, first we need to get the variation explained:"
      ],
      "metadata": {
        "id": "UAnhKmBfX14O"
      },
      "id": "UAnhKmBfX14O"
    },
    {
      "cell_type": "code",
      "source": [
        "import matplotlib.pyplot as plt\n",
        "def plot_explained_variance(X):\n",
        "    #Calculating Eigenvecors and eigenvalues of Covariance matrix\n",
        "    mean_vec = np.mean(X, axis=0)\n",
        "    cov_mat = np.cov(X.T)\n",
        "    eig_vals, eig_vecs = np.linalg.eig(cov_mat)\n",
        "    # Create a list of (eigenvalue, eigenvector) tuples\n",
        "    eig_pairs = [ (np.abs(eig_vals[i]),eig_vecs[:,i]) for i in range(len(eig_vals))]\n",
        "\n",
        "    # Sort from high to low\n",
        "    eig_pairs.sort(key = lambda x: x[0], reverse= True)\n",
        "\n",
        "    # Calculation of Explained Variance from the eigenvalues\n",
        "    tot = sum(eig_vals)\n",
        "    var_exp = [(i/tot)*100 for i in sorted(eig_vals, reverse=True)] # Individual explained variance\n",
        "    cum_var_exp = np.cumsum(var_exp) # Cumulative explained variance\n",
        "    plt.figure(figsize=(10, 5))\n",
        "    plt.bar(range(len(var_exp)), var_exp, alpha=0.3333, align='center', label='individual explained variance', color = 'g')\n",
        "    plt.step(range(len(cum_var_exp)), cum_var_exp, where='mid',label='cumulative explained variance')\n",
        "    plt.ylabel('Explained variance ratio')\n",
        "    plt.xlabel('Principal components')\n",
        "    plt.legend(loc='best')\n",
        "\n",
        "plot_explained_variance(X_reconst)"
      ],
      "metadata": {
        "colab": {
          "base_uri": "https://localhost:8080/",
          "height": 438
        },
        "id": "CyIJIyfVXfQd",
        "outputId": "007c3b80-95be-4b4d-9e17-e07cebdf7d1a"
      },
      "id": "CyIJIyfVXfQd",
      "execution_count": 50,
      "outputs": [
        {
          "output_type": "stream",
          "name": "stderr",
          "text": [
            "/usr/local/lib/python3.7/dist-packages/matplotlib/transforms.py:789: ComplexWarning: Casting complex values to real discards the imaginary part\n",
            "  points = np.array(args, dtype=float).reshape(2, 2)\n",
            "/usr/local/lib/python3.7/dist-packages/matplotlib/cbook/__init__.py:1317: ComplexWarning: Casting complex values to real discards the imaginary part\n",
            "  return np.asarray(x, float)\n",
            "/usr/local/lib/python3.7/dist-packages/matplotlib/transforms.py:789: ComplexWarning: Casting complex values to real discards the imaginary part\n",
            "  points = np.array(args, dtype=float).reshape(2, 2)\n"
          ]
        },
        {
          "output_type": "display_data",
          "data": {
            "text/plain": [
              "<Figure size 720x360 with 1 Axes>"
            ],
            "image/png": "[encoded data removed]"
          },
          "metadata": {
            "needs_background": "light"
          }
        }
      ]
    },
    {
      "cell_type": "markdown",
      "source": [
        "Here we can see that the 99.99% of the variation is covered by 25 number of features:"
      ],
      "metadata": {
        "id": "7vce4SnTYbkP"
      },
      "id": "7vce4SnTYbkP"
    },
    {
      "cell_type": "code",
      "source": [
        "pca = PCA(n_components=25)\n",
        "PCA_X = pca.fit_transform(X_reconst)\n",
        "pca.explained_variance_ratio_"
      ],
      "metadata": {
        "colab": {
          "base_uri": "https://localhost:8080/"
        },
        "id": "Ns6DZaokYbHr",
        "outputId": "1ea1d6e3-ebba-44d8-fbbe-d9cc5243defc"
      },
      "id": "Ns6DZaokYbHr",
      "execution_count": 51,
      "outputs": [
        {
          "output_type": "execute_result",
          "data": {
            "text/plain": [
              "array([0.28393643, 0.1406401 , 0.10623705, 0.07043066, 0.0545129 ,\n",
              "       0.0470866 , 0.0447688 , 0.03690005, 0.03393513, 0.03152024,\n",
              "       0.02932529, 0.0254492 , 0.02376973, 0.01517925, 0.01019768,\n",
              "       0.00995351, 0.00885359, 0.00667157, 0.00646913, 0.00463217,\n",
              "       0.00363425, 0.00249113, 0.0019057 , 0.00093939, 0.00054076])"
            ]
          },
          "metadata": {},
          "execution_count": 51
        }
      ]
    },
    {
      "cell_type": "code",
      "source": [
        "sum(pca.explained_variance_ratio_)"
      ],
      "metadata": {
        "colab": {
          "base_uri": "https://localhost:8080/"
        },
        "id": "zmoeAXbfmAfy",
        "outputId": "11d437b9-8688-473e-9aa7-99884287442b"
      },
      "id": "zmoeAXbfmAfy",
      "execution_count": 52,
      "outputs": [
        {
          "output_type": "execute_result",
          "data": {
            "text/plain": [
              "0.9999803385421431"
            ]
          },
          "metadata": {},
          "execution_count": 52
        }
      ]
    },
    {
      "cell_type": "code",
      "source": [
        "X_train, X_test, y_train, y_test = split(PCA_X, y)\n",
        "\n",
        "clf = RandomForestClassifier(max_depth=2, random_state=0)\n",
        "clf.fit(X_train, y_train)\n",
        "y_pred = clf.predict(X_test)\n",
        "print(classification_report(y_test, y_pred))"
      ],
      "metadata": {
        "colab": {
          "base_uri": "https://localhost:8080/"
        },
        "id": "qkMI2aGxZz2M",
        "outputId": "f3fb0128-9ce0-4262-bd55-90e796af6df1"
      },
      "id": "qkMI2aGxZz2M",
      "execution_count": 53,
      "outputs": [
        {
          "output_type": "stream",
          "name": "stdout",
          "text": [
            "              precision    recall  f1-score   support\n",
            "\n",
            "           0       0.97      1.00      0.99     26587\n",
            "           1       1.00      0.65      0.79      2260\n",
            "\n",
            "    accuracy                           0.97     28847\n",
            "   macro avg       0.99      0.83      0.89     28847\n",
            "weighted avg       0.97      0.97      0.97     28847\n",
            "\n"
          ]
        }
      ]
    },
    {
      "cell_type": "markdown",
      "source": [
        "Despite the fact that most of the variance is covered by 25 components, the performance of the model is exttremely reduced. Recal is reduced from 0.37 to 0.07."
      ],
      "metadata": {
        "id": "7urGBSJlmxRm"
      },
      "id": "7urGBSJlmxRm"
    },
    {
      "cell_type": "markdown",
      "source": [
        "#### 1.6.2 Linear Discriminant Analysis"
      ],
      "metadata": {
        "id": "-xKKemsfa6dW"
      },
      "id": "-xKKemsfa6dW"
    },
    {
      "cell_type": "code",
      "source": [
        "LDA = LinearDiscriminantAnalysis()\n",
        "LDA_X = LDA.fit_transform(X_reconst, y)\n",
        "LDA_X\n"
      ],
      "metadata": {
        "colab": {
          "base_uri": "https://localhost:8080/"
        },
        "id": "8BGT_qCZbdh-",
        "outputId": "a494bb5a-f6ff-4f42-ad36-af9b71df1d49"
      },
      "id": "8BGT_qCZbdh-",
      "execution_count": 54,
      "outputs": [
        {
          "output_type": "execute_result",
          "data": {
            "text/plain": [
              "array([[-3.74915597],\n",
              "       [-3.89715599],\n",
              "       [-4.76636174],\n",
              "       ...,\n",
              "       [-3.54403609],\n",
              "       [-3.54456363],\n",
              "       [-3.75880542]])"
            ]
          },
          "metadata": {},
          "execution_count": 54
        }
      ]
    },
    {
      "cell_type": "code",
      "source": [
        "X_train, X_test, y_train, y_test = split(LDA_X, y)\n",
        "\n",
        "clf = RandomForestClassifier(max_depth=2, random_state=0)\n",
        "clf.fit(X_train, y_train)\n",
        "y_pred = clf.predict(X_test)\n",
        "print(classification_report(y_test, y_pred))"
      ],
      "metadata": {
        "colab": {
          "base_uri": "https://localhost:8080/"
        },
        "id": "JNAkI2YWn0Iq",
        "outputId": "ac4d793e-4c8a-4211-a4a2-1f93a983ceb6"
      },
      "id": "JNAkI2YWn0Iq",
      "execution_count": 55,
      "outputs": [
        {
          "output_type": "stream",
          "name": "stdout",
          "text": [
            "              precision    recall  f1-score   support\n",
            "\n",
            "           0       1.00      1.00      1.00     26587\n",
            "           1       1.00      1.00      1.00      2260\n",
            "\n",
            "    accuracy                           1.00     28847\n",
            "   macro avg       1.00      1.00      1.00     28847\n",
            "weighted avg       1.00      1.00      1.00     28847\n",
            "\n"
          ]
        }
      ]
    },
    {
      "cell_type": "markdown",
      "source": [
        "The interesting result is that we reduce the dimension to 1 and the classification performance is increased from 0.37 to 0.43.\n",
        "LDA is more effective on this data."
      ],
      "metadata": {
        "id": "igCg0sgjoCyQ"
      },
      "id": "igCg0sgjoCyQ"
    },
    {
      "cell_type": "code",
      "source": [
        ""
      ],
      "metadata": {
        "id": "FyuoDcbqoFjv"
      },
      "id": "FyuoDcbqoFjv",
      "execution_count": 55,
      "outputs": []
    }
  ],
  "metadata": {
    "kernelspec": {
      "display_name": "Python 3 (ipykernel)",
      "language": "python",
      "name": "python3"
    },
    "language_info": {
      "codemirror_mode": {
        "name": "ipython",
        "version": 3
      },
      "file_extension": ".py",
      "mimetype": "text/x-python",
      "name": "python",
      "nbconvert_exporter": "python",
      "pygments_lexer": "ipython3",
      "version": "3.9.7"
    },
    "colab": {
      "name": "AML_Assignment2_Amirreza.ipynb",
      "provenance": [],
      "collapsed_sections": []
    }
  },
  "nbformat": 4,
  "nbformat_minor": 5
}